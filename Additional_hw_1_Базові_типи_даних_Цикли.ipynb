{
  "cells": [
    {
      "cell_type": "markdown",
      "metadata": {
        "id": "view-in-github",
        "colab_type": "text"
      },
      "source": [
        "<a href=\"https://colab.research.google.com/github/MrCherveN/DataAnalist-7-0_HomeTasks/blob/main/Additional_hw_1_%D0%91%D0%B0%D0%B7%D0%BE%D0%B2%D1%96_%D1%82%D0%B8%D0%BF%D0%B8_%D0%B4%D0%B0%D0%BD%D0%B8%D1%85_%D0%A6%D0%B8%D0%BA%D0%BB%D0%B8.ipynb\" target=\"_parent\"><img src=\"https://colab.research.google.com/assets/colab-badge.svg\" alt=\"Open In Colab\"/></a>"
      ]
    },
    {
      "cell_type": "markdown",
      "id": "5b1cae7d",
      "metadata": {
        "id": "5b1cae7d"
      },
      "source": [
        "1.Задане значення у змінній var. Перетворіть значення в змінній var на цілочисельне, запишіть в нову змінну `var_int` та виведіть тип нової змінної `var_int`."
      ]
    },
    {
      "cell_type": "code",
      "execution_count": 35,
      "id": "d93f77ed",
      "metadata": {
        "ExecuteTime": {
          "end_time": "2023-06-13T11:52:35.489925Z",
          "start_time": "2023-06-13T11:52:35.487238Z"
        },
        "id": "d93f77ed"
      },
      "outputs": [],
      "source": [
        "var = '1224'"
      ]
    },
    {
      "cell_type": "code",
      "execution_count": 36,
      "id": "5a4afe8f",
      "metadata": {
        "id": "5a4afe8f",
        "colab": {
          "base_uri": "https://localhost:8080/",
          "height": 34
        },
        "outputId": "0ca866c7-7544-4fcb-8b6e-d35716941fde"
      },
      "outputs": [
        {
          "output_type": "display_data",
          "data": {
            "text/plain": [
              "int"
            ]
          },
          "metadata": {}
        }
      ],
      "source": [
        "var_int = int(var)\n",
        "display(type(var_int))"
      ]
    },
    {
      "cell_type": "markdown",
      "id": "eb3d19d8",
      "metadata": {
        "ExecuteTime": {
          "end_time": "2023-06-13T13:00:19.611699Z",
          "start_time": "2023-06-13T13:00:19.607737Z"
        },
        "id": "eb3d19d8"
      },
      "source": [
        "2.У Вас є список слів. Виведіть кожне третє слово в списку."
      ]
    },
    {
      "cell_type": "code",
      "execution_count": 88,
      "id": "477f4ced",
      "metadata": {
        "ExecuteTime": {
          "end_time": "2023-06-13T13:00:02.052801Z",
          "start_time": "2023-06-13T13:00:02.048798Z"
        },
        "id": "477f4ced"
      },
      "outputs": [],
      "source": [
        "words = [\"apple\", \"banana\", \"cherry\", \"date\", \"elderberry\", \"fig\", \"grape\", \"honeydew\", \"ice cream\", \"jackfruit\", \"kiwi\", \"lemon\", \"mango\", \"nectarine\", \"orange\", \"pineapple\", \"quince\", \"raspberry\", \"strawberry\", \"tangerine\", \"ugli fruit\", \"vanilla\", \"watermelon\", \"xigua\", \"yam\", \"zucchini\"]"
      ]
    },
    {
      "cell_type": "code",
      "execution_count": 89,
      "id": "1b73ca2f",
      "metadata": {
        "id": "1b73ca2f",
        "colab": {
          "base_uri": "https://localhost:8080/"
        },
        "outputId": "ed44deac-a626-410a-e860-924e42b28aec"
      },
      "outputs": [
        {
          "output_type": "stream",
          "name": "stdout",
          "text": [
            "['cherry', 'fig', 'ice cream', 'lemon', 'orange', 'raspberry', 'ugli fruit', 'xigua']\n"
          ]
        }
      ],
      "source": [
        "print([words[i]  for i in range(2,len(words),3)])"
      ]
    },
    {
      "cell_type": "markdown",
      "id": "394d1dea",
      "metadata": {
        "id": "394d1dea"
      },
      "source": [
        "3.Скільки всього СЛІВ у списку `words`?"
      ]
    },
    {
      "cell_type": "code",
      "execution_count": 47,
      "id": "83c88182",
      "metadata": {
        "id": "83c88182",
        "colab": {
          "base_uri": "https://localhost:8080/"
        },
        "outputId": "4f0fe42f-b54f-49e8-a601-47d7abd86d1d"
      },
      "outputs": [
        {
          "output_type": "execute_result",
          "data": {
            "text/plain": [
              "26"
            ]
          },
          "metadata": {},
          "execution_count": 47
        }
      ],
      "source": [
        "len(words)"
      ]
    },
    {
      "cell_type": "markdown",
      "id": "703d1620",
      "metadata": {
        "ExecuteTime": {
          "end_time": "2023-06-13T13:03:17.414285Z",
          "start_time": "2023-06-13T13:03:17.409285Z"
        },
        "id": "703d1620"
      },
      "source": [
        "4.Скільки всього ЛІТЕР в усіх словах у списку words?"
      ]
    },
    {
      "cell_type": "code",
      "execution_count": 90,
      "id": "c44d04d9",
      "metadata": {
        "id": "c44d04d9",
        "colab": {
          "base_uri": "https://localhost:8080/"
        },
        "outputId": "b009a27a-7b8c-4697-bc63-60912f93278c"
      },
      "outputs": [
        {
          "output_type": "stream",
          "name": "stdout",
          "text": [
            "180\n",
            "180\n"
          ]
        }
      ],
      "source": [
        "letters = 0\n",
        "for i in words:\n",
        "  letters += len(i)\n",
        "print(letters)\n",
        "\n",
        "# варіант №2\n",
        "\n",
        "print(len(\"\".join(words)))"
      ]
    },
    {
      "cell_type": "markdown",
      "id": "4c95f6a3",
      "metadata": {
        "id": "4c95f6a3"
      },
      "source": [
        "5.Скільки разів зустрічається кожна літера в усіх словах списку `words`? Відсортуйте літери в результуючому словнику за алфавітним порядком."
      ]
    },
    {
      "cell_type": "code",
      "execution_count": 91,
      "id": "f6cff6cb",
      "metadata": {
        "id": "f6cff6cb",
        "colab": {
          "base_uri": "https://localhost:8080/",
          "height": 485
        },
        "outputId": "b191dacf-8184-4e4d-8c1c-ae5141c26401"
      },
      "outputs": [
        {
          "output_type": "display_data",
          "data": {
            "text/plain": [
              "{' ': 2,\n",
              " 'a': 20,\n",
              " 'b': 4,\n",
              " 'c': 8,\n",
              " 'd': 3,\n",
              " 'e': 24,\n",
              " 'f': 3,\n",
              " 'g': 7,\n",
              " 'h': 3,\n",
              " 'i': 15,\n",
              " 'j': 1,\n",
              " 'k': 2,\n",
              " 'l': 8,\n",
              " 'm': 5,\n",
              " 'n': 15,\n",
              " 'o': 5,\n",
              " 'p': 7,\n",
              " 'q': 1,\n",
              " 'r': 19,\n",
              " 's': 2,\n",
              " 't': 7,\n",
              " 'u': 6,\n",
              " 'v': 1,\n",
              " 'w': 4,\n",
              " 'x': 1,\n",
              " 'y': 6,\n",
              " 'z': 1}"
            ]
          },
          "metadata": {}
        }
      ],
      "source": [
        "letters_count = {key : (\"\".join(words)).count(key) for key in sorted(set(\"\".join(words)))}\n",
        "display(letters_count)"
      ]
    },
    {
      "cell_type": "markdown",
      "id": "94d9f1cc",
      "metadata": {
        "id": "94d9f1cc"
      },
      "source": [
        "Очікуваний результат:\n",
        "```\n",
        "{' ': 2,\n",
        " 'a': 20,\n",
        " 'b': 4,\n",
        " 'c': 8,\n",
        " 'd': 3,\n",
        " 'e': 24,\n",
        " 'f': 3,\n",
        " 'g': 7,\n",
        " 'h': 3,\n",
        " 'i': 15,\n",
        " 'j': 1,\n",
        " 'k': 2,\n",
        " 'l': 8,\n",
        " 'm': 5,\n",
        " 'n': 15,\n",
        " 'o': 5,\n",
        " 'p': 7,\n",
        " 'q': 1,\n",
        " 'r': 19,\n",
        " 's': 2,\n",
        " 't': 7,\n",
        " 'u': 6,\n",
        " 'v': 1,\n",
        " 'w': 4,\n",
        " 'x': 1,\n",
        " 'y': 6,\n",
        " 'z': 1}\n",
        " ```"
      ]
    },
    {
      "cell_type": "markdown",
      "id": "c93ac384",
      "metadata": {
        "id": "c93ac384"
      },
      "source": [
        "6.Використовуючи результат виконання попереднього завдання, виведіть на екран ту літеру, яка зустрічається найчастіше і скільки разів вона зустрічається. Це треба зробити програмно, а не просто подививщись на дані :)"
      ]
    },
    {
      "cell_type": "code",
      "execution_count": 92,
      "id": "9ddfb851",
      "metadata": {
        "id": "9ddfb851",
        "colab": {
          "base_uri": "https://localhost:8080/",
          "height": 34
        },
        "outputId": "f8f55c74-d70f-4da4-8516-e191793efba3"
      },
      "outputs": [
        {
          "output_type": "display_data",
          "data": {
            "text/plain": [
              "{'e': 24}"
            ]
          },
          "metadata": {}
        }
      ],
      "source": [
        "max_value = max(letters_count.values())\n",
        "list_of_letters_with_max_values = {key:value for key,value in letters_count.items() if value == max_value}\n",
        "display(list_of_letters_with_max_values)"
      ]
    },
    {
      "cell_type": "markdown",
      "id": "f40adbed",
      "metadata": {
        "id": "f40adbed"
      },
      "source": [
        "7.Для кожного елементу списку виведіть тип елемену. Якщо тип обʼєкту - int (тільки цей тип безпосередньо!), виведіть результат піднесення цього числа до степеню 5."
      ]
    },
    {
      "cell_type": "code",
      "execution_count": 93,
      "id": "f92249ac",
      "metadata": {
        "ExecuteTime": {
          "end_time": "2023-06-13T12:53:04.365735Z",
          "start_time": "2023-06-13T12:53:04.362441Z"
        },
        "id": "f92249ac"
      },
      "outputs": [],
      "source": [
        "elements = [12, 'type', 'Bob', True, 'False', 1.414, 1444.333, 123/33, 5]"
      ]
    },
    {
      "cell_type": "code",
      "execution_count": 94,
      "id": "96b72186",
      "metadata": {
        "id": "96b72186",
        "colab": {
          "base_uri": "https://localhost:8080/"
        },
        "outputId": "c5b85328-c8c6-4bc7-f7df-42af1dcd8f8e"
      },
      "outputs": [
        {
          "output_type": "stream",
          "name": "stdout",
          "text": [
            "The type of element 12 is <class 'int'>\n",
            "This is a number! Let't take it to power 5! The result is: 248832\n",
            "The type of element type is <class 'str'>\n",
            "The type of element Bob is <class 'str'>\n",
            "The type of element True is <class 'bool'>\n",
            "The type of element False is <class 'str'>\n",
            "The type of element 1.414 is <class 'float'>\n",
            "The type of element 1444.333 is <class 'float'>\n",
            "The type of element 3.727272727272727 is <class 'float'>\n",
            "The type of element 5 is <class 'int'>\n",
            "This is a number! Let't take it to power 5! The result is: 3125\n"
          ]
        }
      ],
      "source": [
        "#display([type(i) if type(i) != int else i ** 5 for i in elements])\n",
        "\n",
        "for i in elements:\n",
        "  if type(i) != int:\n",
        "    print(f'The type of element {i} is {type(i)}')\n",
        "  else:\n",
        "    print(f'The type of element {i} is {type(i)}')\n",
        "    print(f'This is a number! Let\\'t take it to power 5! The result is: {i**5}')"
      ]
    },
    {
      "cell_type": "markdown",
      "id": "cf2247c7",
      "metadata": {
        "ExecuteTime": {
          "end_time": "2023-06-13T12:55:17.795510Z",
          "start_time": "2023-06-13T12:55:17.787158Z"
        },
        "id": "cf2247c7"
      },
      "source": [
        "Приклад очікуваного результату (текстові коментарі і форматування можуть бути іншими):\n",
        "```\n",
        "    The type of element 12 is <class 'int'>\n",
        "    This is a number! Let't take it to power 5! The result is: 248832\n",
        "    The type of element type is <class 'str'>\n",
        "    The type of element Bob is <class 'str'>\n",
        "    The type of element True is <class 'bool'>\n",
        "    The type of element False is <class 'str'>\n",
        "    The type of element 1.414 is <class 'float'>\n",
        "    The type of element 1444.333 is <class 'float'>\n",
        "    The type of element 3.727272727272727 is <class 'float'>\n",
        "    The type of element 5 is <class 'int'>\n",
        "    This is a number! Let't take it to power 5! The result is: 3125\n",
        "```"
      ]
    },
    {
      "cell_type": "markdown",
      "id": "76a0bef2",
      "metadata": {
        "id": "76a0bef2"
      },
      "source": [
        "8.Створіть програму, яка:\n",
        "\n",
        "- Для визначених значень `name` та `age` друкує повідомлення \"Привіт, [Ім’я] ! Вам [Вік] років.\".\n",
        "- Обчислює, скільки років залишилося користувачеві до 100 років, і друкує повідомлення з цією інформацією: \"До 100 років Вам лишилось [Число] років.\"  \n",
        "\n",
        "Запустіть програму для набору користувачів нижче."
      ]
    },
    {
      "cell_type": "code",
      "execution_count": 95,
      "id": "0092963a",
      "metadata": {
        "ExecuteTime": {
          "end_time": "2023-06-13T12:30:11.462941Z",
          "start_time": "2023-06-13T12:30:11.459673Z"
        },
        "id": "0092963a"
      },
      "outputs": [],
      "source": [
        "users = [\n",
        "    ['Karl', 30],\n",
        "    ['Klara', 15],\n",
        "    ['Alexis', 56],\n",
        "    ['Charles', 99]\n",
        "]"
      ]
    },
    {
      "cell_type": "code",
      "execution_count": 96,
      "id": "8d6d820e",
      "metadata": {
        "id": "8d6d820e",
        "colab": {
          "base_uri": "https://localhost:8080/"
        },
        "outputId": "88ef4651-6908-4bb3-e905-525190082240"
      },
      "outputs": [
        {
          "output_type": "stream",
          "name": "stdout",
          "text": [
            "Привіт, Karl! Вам 30 років. До 100 років Вам лишилось 70 років.\n",
            "Привіт, Klara! Вам 15 років. До 100 років Вам лишилось 85 років.\n",
            "Привіт, Alexis! Вам 56 років. До 100 років Вам лишилось 44 років.\n",
            "Привіт, Charles! Вам 99 років. До 100 років Вам лишилось 1 років.\n"
          ]
        }
      ],
      "source": [
        "for i in range(len(users)):\n",
        "  print(f\"Привіт, {users[i][0]}! Вам {users[i][1]} років. До 100 років Вам лишилось {100 - users[i][1]} років.\")"
      ]
    },
    {
      "cell_type": "markdown",
      "id": "45fedbc4",
      "metadata": {
        "id": "45fedbc4"
      },
      "source": [
        "9.Напишть фрагмент коду, який перевіряє, чи слово є паліндромом. Слово (або фраза) є паліндромом, якщо при читанні його зворотньому напрямі буде таке саме слово.\n",
        "Наприклад, слово \"radar\" є паліндромом, але \"radix\" не є паліндромом. Код в кінці має видавати результат True або False.  \n",
        "Код має звертати увагу лише на символи-літери. Регістр літер не має значення, а знаки пунктуації (кома, крапка) та `-+=/\\`` мають бути вилучені з рядка перед перевіркою. Так само, пробіли не впливають на визначення,чи слово є палендромом. Мають значення лише літери.\n",
        "Тобто рядки \"A mam, a\" та \"A mamA\" є паліндромами, а \"AmamU\" - ні.\n",
        "\n",
        "Опціонально ви можете розмістити код на перевірку чи є слово паліндромом у фукнцію.\n",
        "Запустіть свій код для рядків з набору нижче і виведіть результат перевірки на екран для кожного рядка."
      ]
    },
    {
      "cell_type": "code",
      "execution_count": 97,
      "id": "4cca3eed",
      "metadata": {
        "ExecuteTime": {
          "end_time": "2023-06-13T12:24:02.288183Z",
          "start_time": "2023-06-13T12:24:02.285245Z"
        },
        "id": "4cca3eed"
      },
      "outputs": [],
      "source": [
        "phrases_to_check = [\n",
        "    'radar',\n",
        "    'radix',\n",
        "    'A mam, a',\n",
        "    'A mamA',\n",
        "    'Sit on a potato pan Otis',\n",
        "    'Taco cat.',\n",
        "    'Taco cat',\n",
        "    'Tornado',\n",
        "    \"Go hang a salami, I'm a lasagna hog.\"\n",
        "]"
      ]
    },
    {
      "cell_type": "code",
      "execution_count": 112,
      "id": "becbec3c",
      "metadata": {
        "id": "becbec3c",
        "colab": {
          "base_uri": "https://localhost:8080/"
        },
        "outputId": "c5d9d483-d5e7-4f76-9711-734bdfde5a23"
      },
      "outputs": [
        {
          "output_type": "stream",
          "name": "stdout",
          "text": [
            "radar - True\n",
            "radix - False\n",
            "A mam, a - True\n",
            "A mamA - True\n",
            "Sit on a potato pan Otis - True\n",
            "Taco cat. - True\n",
            "Taco cat - True\n",
            "Tornado - False\n",
            "Go hang a salami, I'm a lasagna hog. - False\n"
          ]
        }
      ],
      "source": [
        "def ispalindrome(phrases_list):\n",
        "\n",
        "  remove_ch = [\"+\",\"-\",\"/\",\",\",\".\",\" \"]\n",
        "  # проходимо по списку\n",
        "  for el in phrases_list:\n",
        "\n",
        "    # змінюємо регістр букв\n",
        "    new_el = list(el.lower())\n",
        "\n",
        "    # очищаємо від непотрібних символів\n",
        "    for value in reversed(new_el):\n",
        "      if value in remove_ch:\n",
        "        new_el.remove(value)\n",
        "\n",
        "  # перевіряємо рівність реверса та вихідного текста\n",
        "    if ''.join(map(str,new_el)) == ''.join(map(str,reversed(new_el))):\n",
        "      print(f\"{el} - {True}\")\n",
        "    else:\n",
        "      print(f\"{el} - {False}\")\n",
        "\n",
        "ispalindrome(phrases_to_check)\n"
      ]
    },
    {
      "cell_type": "markdown",
      "id": "e51c421d",
      "metadata": {
        "id": "e51c421d"
      },
      "source": [
        "Очкувані результати обчислень:\n",
        "```\n",
        "    radar - True\n",
        "    radix - False\n",
        "    A mam, a - True\n",
        "    A mamA - True\n",
        "    Sit on a potato pan Otis - True\n",
        "    Taco cat. - True\n",
        "    Taco cat - True\n",
        "    Tornado - False\n",
        "    Go hang a salami, I'm a lasagna hog. - True\n",
        "```"
      ]
    }
  ],
  "metadata": {
    "kernelspec": {
      "display_name": "Python 3 (ipykernel)",
      "language": "python",
      "name": "python3"
    },
    "language_info": {
      "codemirror_mode": {
        "name": "ipython",
        "version": 3
      },
      "file_extension": ".py",
      "mimetype": "text/x-python",
      "name": "python",
      "nbconvert_exporter": "python",
      "pygments_lexer": "ipython3",
      "version": "3.10.4"
    },
    "toc": {
      "base_numbering": 1,
      "nav_menu": {},
      "number_sections": true,
      "sideBar": true,
      "skip_h1_title": false,
      "title_cell": "Table of Contents",
      "title_sidebar": "Contents",
      "toc_cell": false,
      "toc_position": {},
      "toc_section_display": true,
      "toc_window_display": false
    },
    "colab": {
      "provenance": [],
      "include_colab_link": true
    }
  },
  "nbformat": 4,
  "nbformat_minor": 5
}