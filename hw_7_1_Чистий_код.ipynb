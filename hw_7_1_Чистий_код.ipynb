{
  "cells": [
    {
      "cell_type": "markdown",
      "metadata": {
        "id": "view-in-github",
        "colab_type": "text"
      },
      "source": [
        "<a href=\"https://colab.research.google.com/github/MrCherveN/DataAnalist-7-0_HomeTasks/blob/main/hw_7_1_%D0%A7%D0%B8%D1%81%D1%82%D0%B8%D0%B9_%D0%BA%D0%BE%D0%B4.ipynb\" target=\"_parent\"><img src=\"https://colab.research.google.com/assets/colab-badge.svg\" alt=\"Open In Colab\"/></a>"
      ]
    },
    {
      "cell_type": "markdown",
      "id": "aed503f1",
      "metadata": {
        "ExecuteTime": {
          "end_time": "2023-07-27T20:14:32.871852Z",
          "start_time": "2023-07-27T20:14:31.036121Z"
        },
        "id": "aed503f1"
      },
      "source": [
        "У завданнях 1-4. Вам наданий простий код на Python, який не відповідає вказівкам PEP8. Ваше завдання — відредагувати код так, аби він відповідав PEP8. Напишіть після редагуванню коду, дотримання яких правил з pep8 ви досягли в відредагованій версі, наприклад\n",
        "```\n",
        "- додала пробіли навколо бінарного оператора\n",
        "- додала два порожні рядки між визначеннями функцій\n",
        "і тд\n",
        "```\n",
        "Також можна зазанчити використані правила коментарями по коду, а не окремим повідомленням.\n",
        "\n",
        "Відредагований код має виконувати весь той самий функціонал, але бути написаний відповідно до вимог до гарного коду на Python! Не забудьте запустити відредагований код, він має бути робочим."
      ]
    },
    {
      "cell_type": "markdown",
      "id": "e7fea147",
      "metadata": {
        "id": "e7fea147"
      },
      "source": [
        "Завдання 1."
      ]
    },
    {
      "cell_type": "code",
      "execution_count": 1,
      "id": "f63d84d7",
      "metadata": {
        "ExecuteTime": {
          "end_time": "2023-07-29T17:02:37.075783Z",
          "start_time": "2023-07-29T17:02:37.035259Z"
        },
        "id": "f63d84d7",
        "colab": {
          "base_uri": "https://localhost:8080/",
          "height": 72
        },
        "outputId": "b386b5d6-d3f9-4336-ac39-56b4aa314170"
      },
      "outputs": [
        {
          "output_type": "stream",
          "name": "stdout",
          "text": [
            "Hello, John\n"
          ]
        },
        {
          "output_type": "display_data",
          "data": {
            "text/plain": [
              "None"
            ]
          },
          "metadata": {}
        },
        {
          "output_type": "display_data",
          "data": {
            "text/plain": [
              "8"
            ]
          },
          "metadata": {}
        }
      ],
      "source": [
        "def greet(name):print(f\"Hello, {name}\")\n",
        "def add(n1,n2):return n1+n2\n",
        "\n",
        "x = 5;y = 3\n",
        "display(greet(\"John\"),add(x,y))\n"
      ]
    },
    {
      "cell_type": "code",
      "execution_count": 3,
      "id": "41b7e672",
      "metadata": {
        "id": "41b7e672",
        "colab": {
          "base_uri": "https://localhost:8080/",
          "height": 54
        },
        "outputId": "f38daca1-b245-4313-ab3b-7992a4f0f1f6"
      },
      "outputs": [
        {
          "output_type": "stream",
          "name": "stdout",
          "text": [
            "Hello, John\n"
          ]
        },
        {
          "output_type": "display_data",
          "data": {
            "text/plain": [
              "8"
            ]
          },
          "metadata": {}
        }
      ],
      "source": [
        "def greet(name):\n",
        "  print(f\"Hello, {name}\")\n",
        "\n",
        "\n",
        "def add(n1, n2):\n",
        "  return n1 + n2\n",
        "\n",
        "x = 5\n",
        "y = 3\n",
        "greet(\"John\")\n",
        "display(add(x, y))"
      ]
    },
    {
      "cell_type": "markdown",
      "source": [
        "- додано два порожні рядки між визначеннями функцій\n",
        "- додано відступи для блоку коду в тілі функції\n",
        "- додано пробіли між параметрами функції\n",
        "- додано пробіли  навколо оператора \"+\"\n",
        "- розділено оголошення змінних\n",
        "- змінено вкилик display, оскільки перша функція повертає None, що є не коректним"
      ],
      "metadata": {
        "id": "zPgDP_EvOofS"
      },
      "id": "zPgDP_EvOofS"
    },
    {
      "cell_type": "markdown",
      "id": "cea88baf",
      "metadata": {
        "id": "cea88baf"
      },
      "source": [
        "Завдання 2."
      ]
    },
    {
      "cell_type": "code",
      "execution_count": 5,
      "id": "dfb6d2b5",
      "metadata": {
        "ExecuteTime": {
          "end_time": "2023-07-29T17:05:49.706098Z",
          "start_time": "2023-07-29T17:05:49.688255Z"
        },
        "id": "dfb6d2b5",
        "colab": {
          "base_uri": "https://localhost:8080/"
        },
        "outputId": "3ce4e02e-7f64-438e-cb40-7c89ec21ec93"
      },
      "outputs": [
        {
          "output_type": "stream",
          "name": "stdout",
          "text": [
            "Area: 78.53981633974483 Circumference: 31.41592653589793\n"
          ]
        }
      ],
      "source": [
        "from math import *\n",
        "def calcArea(r):return pi*r**2\n",
        "def calcCircumference(r):return 2*pi*r\n",
        "\n",
        "radius=5\n",
        "print(\"Area:\",calcArea(radius),\"Circumference:\",calcCircumference(radius))"
      ]
    },
    {
      "cell_type": "code",
      "execution_count": 6,
      "id": "df263672",
      "metadata": {
        "id": "df263672",
        "colab": {
          "base_uri": "https://localhost:8080/"
        },
        "outputId": "59861175-5453-44a6-acdc-a8c121d7e714"
      },
      "outputs": [
        {
          "output_type": "stream",
          "name": "stdout",
          "text": [
            "Area: 78.53981633974483 Circumference: 31.41592653589793\n"
          ]
        }
      ],
      "source": [
        "from math import pi\n",
        "\n",
        "\n",
        "def calc_area(r):\n",
        "  return pi * r ** 2\n",
        "\n",
        "\n",
        "def calc_circumference(r):\n",
        "  return 2 * pi * r\n",
        "\n",
        "\n",
        "radius = 5\n",
        "print(\"Area:\", calc_area(radius), \"Circumference:\", calc_circumference(radius))"
      ]
    },
    {
      "cell_type": "markdown",
      "source": [
        "- змінено імпорт функції з бібліотеки, оксільки правильно імпортувати конкретні значення\n",
        "- змнено стиль найменування функцій\n",
        "- додано два порожні рядки між визначеннями функцій\n",
        "- додано відступи для блоку коду в тілі функції\n",
        "- додано пробіли між параметрами функції\n",
        "- додано пробіли  навколо оператораторів \"*\", \"**\", \"=\"\n"
      ],
      "metadata": {
        "id": "foiWBDvBQZPv"
      },
      "id": "foiWBDvBQZPv"
    },
    {
      "cell_type": "markdown",
      "id": "1fd691b7",
      "metadata": {
        "id": "1fd691b7"
      },
      "source": [
        "Завдання 3."
      ]
    },
    {
      "cell_type": "code",
      "execution_count": null,
      "id": "1d5acb2d",
      "metadata": {
        "ExecuteTime": {
          "end_time": "2023-07-29T17:06:18.612622Z",
          "start_time": "2023-07-29T17:06:18.598477Z"
        },
        "id": "1d5acb2d"
      },
      "outputs": [],
      "source": [
        "class animal: pass\n",
        "class dog(animal):\n",
        "    def __init__(self,name):\n",
        "        self.name=name\n",
        "        self.type='Dog'"
      ]
    },
    {
      "cell_type": "code",
      "execution_count": null,
      "id": "0d4b2b8a",
      "metadata": {
        "id": "0d4b2b8a"
      },
      "outputs": [],
      "source": [
        "class Animal:\n",
        "  pass\n",
        "\n",
        "\n",
        "class Dog(Animal):\n",
        "    def __init__(self, name):\n",
        "        self.name = name\n",
        "        self.type = 'Dog'"
      ]
    },
    {
      "cell_type": "markdown",
      "source": [
        "- змінено стиль найменування класів\n",
        "- додано два порожні рядки між визначеннями класів\n",
        "- додано пробіли (відступи) для коду в тілі класів\n",
        "- додано пробіли навколо оператору \"=\"\n",
        "- додано пробіл між параметрами в методі ініціалізації класу"
      ],
      "metadata": {
        "id": "PGrd9XjQS6F5"
      },
      "id": "PGrd9XjQS6F5"
    },
    {
      "cell_type": "markdown",
      "id": "7d1d4f5d",
      "metadata": {
        "id": "7d1d4f5d"
      },
      "source": [
        "Завдання 4."
      ]
    },
    {
      "cell_type": "code",
      "execution_count": 7,
      "id": "a91c1cc4",
      "metadata": {
        "ExecuteTime": {
          "end_time": "2023-07-29T17:06:47.180263Z",
          "start_time": "2023-07-29T17:06:47.173617Z"
        },
        "id": "a91c1cc4",
        "colab": {
          "base_uri": "https://localhost:8080/"
        },
        "outputId": "b739c9f0-4590-4f84-9549-fcaa16f582e0"
      },
      "outputs": [
        {
          "output_type": "stream",
          "name": "stdout",
          "text": [
            "1\n",
            "2\n",
            "3\n",
            "4\n",
            "5\n"
          ]
        }
      ],
      "source": [
        "list=[1,2,3,4,5]\n",
        "for i in range(len(list)):print(list[i])"
      ]
    },
    {
      "cell_type": "code",
      "execution_count": 8,
      "id": "c0f9541a",
      "metadata": {
        "id": "c0f9541a",
        "colab": {
          "base_uri": "https://localhost:8080/"
        },
        "outputId": "10b97583-7e14-4816-d136-766a9017783a"
      },
      "outputs": [
        {
          "output_type": "stream",
          "name": "stdout",
          "text": [
            "1\n",
            "2\n",
            "3\n",
            "4\n",
            "5\n"
          ]
        }
      ],
      "source": [
        "num_list = [1, 2, 3, 4, 5]\n",
        "\n",
        "for i in num_list:\n",
        "  print(i)"
      ]
    },
    {
      "cell_type": "markdown",
      "source": [
        "- змінено назву списку, для запобігання конфлікту імен з вбудованим типом даних\n",
        "- додано пробіли навколо оператора \"=\" та в середині між елементами списку\n",
        "- змінено обробку списку\n",
        "- додано пустий рядок між визначенням списку та його оборобкою"
      ],
      "metadata": {
        "id": "A0KSGrRrUoBk"
      },
      "id": "A0KSGrRrUoBk"
    },
    {
      "cell_type": "markdown",
      "id": "8b0487e6",
      "metadata": {
        "id": "8b0487e6"
      },
      "source": [
        "5.У вас є DataFrame df, що представляє результати тестів студентів з математики, англійської мови та історії. Поточний код обчислює середній бал для кожного студента шляхом ітерації за рядками DataFrame за допомогою iterrows().\n",
        "\n",
        "Ваше завдання полягає в тому, щоб змінити код так, аби уникнути використання iterrows() і замість цього застосувати більш ефективне та читабельне рішення відповідно до правил, озвучених у лекції. Рефакторинг треба зробити лише частині, де рахуються середні, імпорт і визначення датафрейму лишаємо без змін."
      ]
    },
    {
      "cell_type": "code",
      "execution_count": 13,
      "id": "5b3cc648",
      "metadata": {
        "ExecuteTime": {
          "end_time": "2023-07-29T17:15:55.926882Z",
          "start_time": "2023-07-29T17:15:55.686415Z"
        },
        "id": "5b3cc648"
      },
      "outputs": [],
      "source": [
        "import pandas as pd\n",
        "\n",
        "df = pd.DataFrame({\n",
        "    'student': ['Alice', 'Bob', 'Charlie', 'David'],\n",
        "    'math_score': [89, 94, 77, 85],\n",
        "    'english_score': [92, 88, 79, 85],\n",
        "    'history_score': [84, 92, 81, 89]\n",
        "})"
      ]
    },
    {
      "cell_type": "code",
      "execution_count": 14,
      "id": "f5858889",
      "metadata": {
        "ExecuteTime": {
          "end_time": "2023-07-29T17:15:55.926882Z",
          "start_time": "2023-07-29T17:15:55.686415Z"
        },
        "id": "f5858889"
      },
      "outputs": [],
      "source": [
        "averages = []\n",
        "for _, row in df.iterrows():\n",
        "    averages.append((row['math_score'] + row['english_score'] + row['history_score']) / 3)\n",
        "\n",
        "df['average_score'] = averages"
      ]
    },
    {
      "cell_type": "code",
      "execution_count": 15,
      "id": "74cea4fc",
      "metadata": {
        "id": "74cea4fc",
        "colab": {
          "base_uri": "https://localhost:8080/",
          "height": 175
        },
        "outputId": "990dacaa-0272-4d39-f09f-08d362a649f7"
      },
      "outputs": [
        {
          "output_type": "execute_result",
          "data": {
            "text/plain": [
              "   student  math_score  english_score  history_score  average_score\n",
              "0    Alice          89             92             84      88.333333\n",
              "1      Bob          94             88             92      91.333333\n",
              "2  Charlie          77             79             81      79.000000\n",
              "3    David          85             85             89      86.333333"
            ],
            "text/html": [
              "\n",
              "  <div id=\"df-256b35b3-a41d-4c0f-a51e-5f6b73246a17\" class=\"colab-df-container\">\n",
              "    <div>\n",
              "<style scoped>\n",
              "    .dataframe tbody tr th:only-of-type {\n",
              "        vertical-align: middle;\n",
              "    }\n",
              "\n",
              "    .dataframe tbody tr th {\n",
              "        vertical-align: top;\n",
              "    }\n",
              "\n",
              "    .dataframe thead th {\n",
              "        text-align: right;\n",
              "    }\n",
              "</style>\n",
              "<table border=\"1\" class=\"dataframe\">\n",
              "  <thead>\n",
              "    <tr style=\"text-align: right;\">\n",
              "      <th></th>\n",
              "      <th>student</th>\n",
              "      <th>math_score</th>\n",
              "      <th>english_score</th>\n",
              "      <th>history_score</th>\n",
              "      <th>average_score</th>\n",
              "    </tr>\n",
              "  </thead>\n",
              "  <tbody>\n",
              "    <tr>\n",
              "      <th>0</th>\n",
              "      <td>Alice</td>\n",
              "      <td>89</td>\n",
              "      <td>92</td>\n",
              "      <td>84</td>\n",
              "      <td>88.333333</td>\n",
              "    </tr>\n",
              "    <tr>\n",
              "      <th>1</th>\n",
              "      <td>Bob</td>\n",
              "      <td>94</td>\n",
              "      <td>88</td>\n",
              "      <td>92</td>\n",
              "      <td>91.333333</td>\n",
              "    </tr>\n",
              "    <tr>\n",
              "      <th>2</th>\n",
              "      <td>Charlie</td>\n",
              "      <td>77</td>\n",
              "      <td>79</td>\n",
              "      <td>81</td>\n",
              "      <td>79.000000</td>\n",
              "    </tr>\n",
              "    <tr>\n",
              "      <th>3</th>\n",
              "      <td>David</td>\n",
              "      <td>85</td>\n",
              "      <td>85</td>\n",
              "      <td>89</td>\n",
              "      <td>86.333333</td>\n",
              "    </tr>\n",
              "  </tbody>\n",
              "</table>\n",
              "</div>\n",
              "    <div class=\"colab-df-buttons\">\n",
              "\n",
              "  <div class=\"colab-df-container\">\n",
              "    <button class=\"colab-df-convert\" onclick=\"convertToInteractive('df-256b35b3-a41d-4c0f-a51e-5f6b73246a17')\"\n",
              "            title=\"Convert this dataframe to an interactive table.\"\n",
              "            style=\"display:none;\">\n",
              "\n",
              "  <svg xmlns=\"http://www.w3.org/2000/svg\" height=\"24px\" viewBox=\"0 -960 960 960\">\n",
              "    <path d=\"M120-120v-720h720v720H120Zm60-500h600v-160H180v160Zm220 220h160v-160H400v160Zm0 220h160v-160H400v160ZM180-400h160v-160H180v160Zm440 0h160v-160H620v160ZM180-180h160v-160H180v160Zm440 0h160v-160H620v160Z\"/>\n",
              "  </svg>\n",
              "    </button>\n",
              "\n",
              "  <style>\n",
              "    .colab-df-container {\n",
              "      display:flex;\n",
              "      gap: 12px;\n",
              "    }\n",
              "\n",
              "    .colab-df-convert {\n",
              "      background-color: #E8F0FE;\n",
              "      border: none;\n",
              "      border-radius: 50%;\n",
              "      cursor: pointer;\n",
              "      display: none;\n",
              "      fill: #1967D2;\n",
              "      height: 32px;\n",
              "      padding: 0 0 0 0;\n",
              "      width: 32px;\n",
              "    }\n",
              "\n",
              "    .colab-df-convert:hover {\n",
              "      background-color: #E2EBFA;\n",
              "      box-shadow: 0px 1px 2px rgba(60, 64, 67, 0.3), 0px 1px 3px 1px rgba(60, 64, 67, 0.15);\n",
              "      fill: #174EA6;\n",
              "    }\n",
              "\n",
              "    .colab-df-buttons div {\n",
              "      margin-bottom: 4px;\n",
              "    }\n",
              "\n",
              "    [theme=dark] .colab-df-convert {\n",
              "      background-color: #3B4455;\n",
              "      fill: #D2E3FC;\n",
              "    }\n",
              "\n",
              "    [theme=dark] .colab-df-convert:hover {\n",
              "      background-color: #434B5C;\n",
              "      box-shadow: 0px 1px 3px 1px rgba(0, 0, 0, 0.15);\n",
              "      filter: drop-shadow(0px 1px 2px rgba(0, 0, 0, 0.3));\n",
              "      fill: #FFFFFF;\n",
              "    }\n",
              "  </style>\n",
              "\n",
              "    <script>\n",
              "      const buttonEl =\n",
              "        document.querySelector('#df-256b35b3-a41d-4c0f-a51e-5f6b73246a17 button.colab-df-convert');\n",
              "      buttonEl.style.display =\n",
              "        google.colab.kernel.accessAllowed ? 'block' : 'none';\n",
              "\n",
              "      async function convertToInteractive(key) {\n",
              "        const element = document.querySelector('#df-256b35b3-a41d-4c0f-a51e-5f6b73246a17');\n",
              "        const dataTable =\n",
              "          await google.colab.kernel.invokeFunction('convertToInteractive',\n",
              "                                                    [key], {});\n",
              "        if (!dataTable) return;\n",
              "\n",
              "        const docLinkHtml = 'Like what you see? Visit the ' +\n",
              "          '<a target=\"_blank\" href=https://colab.research.google.com/notebooks/data_table.ipynb>data table notebook</a>'\n",
              "          + ' to learn more about interactive tables.';\n",
              "        element.innerHTML = '';\n",
              "        dataTable['output_type'] = 'display_data';\n",
              "        await google.colab.output.renderOutput(dataTable, element);\n",
              "        const docLink = document.createElement('div');\n",
              "        docLink.innerHTML = docLinkHtml;\n",
              "        element.appendChild(docLink);\n",
              "      }\n",
              "    </script>\n",
              "  </div>\n",
              "\n",
              "\n",
              "<div id=\"df-9bcc32d3-b8f9-4eda-af4e-d8da7d3581e2\">\n",
              "  <button class=\"colab-df-quickchart\" onclick=\"quickchart('df-9bcc32d3-b8f9-4eda-af4e-d8da7d3581e2')\"\n",
              "            title=\"Suggest charts\"\n",
              "            style=\"display:none;\">\n",
              "\n",
              "<svg xmlns=\"http://www.w3.org/2000/svg\" height=\"24px\"viewBox=\"0 0 24 24\"\n",
              "     width=\"24px\">\n",
              "    <g>\n",
              "        <path d=\"M19 3H5c-1.1 0-2 .9-2 2v14c0 1.1.9 2 2 2h14c1.1 0 2-.9 2-2V5c0-1.1-.9-2-2-2zM9 17H7v-7h2v7zm4 0h-2V7h2v10zm4 0h-2v-4h2v4z\"/>\n",
              "    </g>\n",
              "</svg>\n",
              "  </button>\n",
              "\n",
              "<style>\n",
              "  .colab-df-quickchart {\n",
              "      --bg-color: #E8F0FE;\n",
              "      --fill-color: #1967D2;\n",
              "      --hover-bg-color: #E2EBFA;\n",
              "      --hover-fill-color: #174EA6;\n",
              "      --disabled-fill-color: #AAA;\n",
              "      --disabled-bg-color: #DDD;\n",
              "  }\n",
              "\n",
              "  [theme=dark] .colab-df-quickchart {\n",
              "      --bg-color: #3B4455;\n",
              "      --fill-color: #D2E3FC;\n",
              "      --hover-bg-color: #434B5C;\n",
              "      --hover-fill-color: #FFFFFF;\n",
              "      --disabled-bg-color: #3B4455;\n",
              "      --disabled-fill-color: #666;\n",
              "  }\n",
              "\n",
              "  .colab-df-quickchart {\n",
              "    background-color: var(--bg-color);\n",
              "    border: none;\n",
              "    border-radius: 50%;\n",
              "    cursor: pointer;\n",
              "    display: none;\n",
              "    fill: var(--fill-color);\n",
              "    height: 32px;\n",
              "    padding: 0;\n",
              "    width: 32px;\n",
              "  }\n",
              "\n",
              "  .colab-df-quickchart:hover {\n",
              "    background-color: var(--hover-bg-color);\n",
              "    box-shadow: 0 1px 2px rgba(60, 64, 67, 0.3), 0 1px 3px 1px rgba(60, 64, 67, 0.15);\n",
              "    fill: var(--button-hover-fill-color);\n",
              "  }\n",
              "\n",
              "  .colab-df-quickchart-complete:disabled,\n",
              "  .colab-df-quickchart-complete:disabled:hover {\n",
              "    background-color: var(--disabled-bg-color);\n",
              "    fill: var(--disabled-fill-color);\n",
              "    box-shadow: none;\n",
              "  }\n",
              "\n",
              "  .colab-df-spinner {\n",
              "    border: 2px solid var(--fill-color);\n",
              "    border-color: transparent;\n",
              "    border-bottom-color: var(--fill-color);\n",
              "    animation:\n",
              "      spin 1s steps(1) infinite;\n",
              "  }\n",
              "\n",
              "  @keyframes spin {\n",
              "    0% {\n",
              "      border-color: transparent;\n",
              "      border-bottom-color: var(--fill-color);\n",
              "      border-left-color: var(--fill-color);\n",
              "    }\n",
              "    20% {\n",
              "      border-color: transparent;\n",
              "      border-left-color: var(--fill-color);\n",
              "      border-top-color: var(--fill-color);\n",
              "    }\n",
              "    30% {\n",
              "      border-color: transparent;\n",
              "      border-left-color: var(--fill-color);\n",
              "      border-top-color: var(--fill-color);\n",
              "      border-right-color: var(--fill-color);\n",
              "    }\n",
              "    40% {\n",
              "      border-color: transparent;\n",
              "      border-right-color: var(--fill-color);\n",
              "      border-top-color: var(--fill-color);\n",
              "    }\n",
              "    60% {\n",
              "      border-color: transparent;\n",
              "      border-right-color: var(--fill-color);\n",
              "    }\n",
              "    80% {\n",
              "      border-color: transparent;\n",
              "      border-right-color: var(--fill-color);\n",
              "      border-bottom-color: var(--fill-color);\n",
              "    }\n",
              "    90% {\n",
              "      border-color: transparent;\n",
              "      border-bottom-color: var(--fill-color);\n",
              "    }\n",
              "  }\n",
              "</style>\n",
              "\n",
              "  <script>\n",
              "    async function quickchart(key) {\n",
              "      const quickchartButtonEl =\n",
              "        document.querySelector('#' + key + ' button');\n",
              "      quickchartButtonEl.disabled = true;  // To prevent multiple clicks.\n",
              "      quickchartButtonEl.classList.add('colab-df-spinner');\n",
              "      try {\n",
              "        const charts = await google.colab.kernel.invokeFunction(\n",
              "            'suggestCharts', [key], {});\n",
              "      } catch (error) {\n",
              "        console.error('Error during call to suggestCharts:', error);\n",
              "      }\n",
              "      quickchartButtonEl.classList.remove('colab-df-spinner');\n",
              "      quickchartButtonEl.classList.add('colab-df-quickchart-complete');\n",
              "    }\n",
              "    (() => {\n",
              "      let quickchartButtonEl =\n",
              "        document.querySelector('#df-9bcc32d3-b8f9-4eda-af4e-d8da7d3581e2 button');\n",
              "      quickchartButtonEl.style.display =\n",
              "        google.colab.kernel.accessAllowed ? 'block' : 'none';\n",
              "    })();\n",
              "  </script>\n",
              "</div>\n",
              "    </div>\n",
              "  </div>\n"
            ],
            "application/vnd.google.colaboratory.intrinsic+json": {
              "type": "dataframe",
              "variable_name": "df",
              "summary": "{\n  \"name\": \"df\",\n  \"rows\": 4,\n  \"fields\": [\n    {\n      \"column\": \"student\",\n      \"properties\": {\n        \"dtype\": \"string\",\n        \"num_unique_values\": 4,\n        \"samples\": [\n          \"Bob\",\n          \"David\",\n          \"Alice\"\n        ],\n        \"semantic_type\": \"\",\n        \"description\": \"\"\n      }\n    },\n    {\n      \"column\": \"math_score\",\n      \"properties\": {\n        \"dtype\": \"number\",\n        \"std\": 7,\n        \"min\": 77,\n        \"max\": 94,\n        \"num_unique_values\": 4,\n        \"samples\": [\n          94,\n          85,\n          89\n        ],\n        \"semantic_type\": \"\",\n        \"description\": \"\"\n      }\n    },\n    {\n      \"column\": \"english_score\",\n      \"properties\": {\n        \"dtype\": \"number\",\n        \"std\": 5,\n        \"min\": 79,\n        \"max\": 92,\n        \"num_unique_values\": 4,\n        \"samples\": [\n          88,\n          85,\n          92\n        ],\n        \"semantic_type\": \"\",\n        \"description\": \"\"\n      }\n    },\n    {\n      \"column\": \"history_score\",\n      \"properties\": {\n        \"dtype\": \"number\",\n        \"std\": 4,\n        \"min\": 81,\n        \"max\": 92,\n        \"num_unique_values\": 4,\n        \"samples\": [\n          92,\n          89,\n          84\n        ],\n        \"semantic_type\": \"\",\n        \"description\": \"\"\n      }\n    },\n    {\n      \"column\": \"average_score\",\n      \"properties\": {\n        \"dtype\": \"number\",\n        \"std\": 5.251983752196241,\n        \"min\": 79.0,\n        \"max\": 91.33333333333333,\n        \"num_unique_values\": 4,\n        \"samples\": [\n          91.33333333333333,\n          86.33333333333333,\n          88.33333333333333\n        ],\n        \"semantic_type\": \"\",\n        \"description\": \"\"\n      }\n    }\n  ]\n}"
            }
          },
          "metadata": {},
          "execution_count": 15
        }
      ],
      "source": [
        "df"
      ]
    },
    {
      "cell_type": "code",
      "source": [
        "import pandas as pd\n",
        "\n",
        "df = pd.DataFrame({\n",
        "    'student': ['Alice', 'Bob', 'Charlie', 'David'],\n",
        "    'math_score': [89, 94, 77, 85],\n",
        "    'english_score': [92, 88, 79, 85],\n",
        "    'history_score': [84, 92, 81, 89]\n",
        "})"
      ],
      "metadata": {
        "id": "Ll92oJrLWLce"
      },
      "id": "Ll92oJrLWLce",
      "execution_count": 18,
      "outputs": []
    },
    {
      "cell_type": "code",
      "source": [
        "df['average_score'] = df[['math_score', 'english_score', 'history_score']].mean(axis=1)"
      ],
      "metadata": {
        "id": "WuShALVhWMTU"
      },
      "id": "WuShALVhWMTU",
      "execution_count": 22,
      "outputs": []
    },
    {
      "cell_type": "code",
      "source": [
        "df"
      ],
      "metadata": {
        "colab": {
          "base_uri": "https://localhost:8080/",
          "height": 175
        },
        "id": "bobBmLq1WrWf",
        "outputId": "a786981a-f112-4906-9e21-15b9d5e1a595"
      },
      "id": "bobBmLq1WrWf",
      "execution_count": 23,
      "outputs": [
        {
          "output_type": "execute_result",
          "data": {
            "text/plain": [
              "   student  math_score  english_score  history_score  average_score\n",
              "0    Alice          89             92             84      88.333333\n",
              "1      Bob          94             88             92      91.333333\n",
              "2  Charlie          77             79             81      79.000000\n",
              "3    David          85             85             89      86.333333"
            ],
            "text/html": [
              "\n",
              "  <div id=\"df-61842ae9-09cf-4c71-b4fe-c42f5e0187c4\" class=\"colab-df-container\">\n",
              "    <div>\n",
              "<style scoped>\n",
              "    .dataframe tbody tr th:only-of-type {\n",
              "        vertical-align: middle;\n",
              "    }\n",
              "\n",
              "    .dataframe tbody tr th {\n",
              "        vertical-align: top;\n",
              "    }\n",
              "\n",
              "    .dataframe thead th {\n",
              "        text-align: right;\n",
              "    }\n",
              "</style>\n",
              "<table border=\"1\" class=\"dataframe\">\n",
              "  <thead>\n",
              "    <tr style=\"text-align: right;\">\n",
              "      <th></th>\n",
              "      <th>student</th>\n",
              "      <th>math_score</th>\n",
              "      <th>english_score</th>\n",
              "      <th>history_score</th>\n",
              "      <th>average_score</th>\n",
              "    </tr>\n",
              "  </thead>\n",
              "  <tbody>\n",
              "    <tr>\n",
              "      <th>0</th>\n",
              "      <td>Alice</td>\n",
              "      <td>89</td>\n",
              "      <td>92</td>\n",
              "      <td>84</td>\n",
              "      <td>88.333333</td>\n",
              "    </tr>\n",
              "    <tr>\n",
              "      <th>1</th>\n",
              "      <td>Bob</td>\n",
              "      <td>94</td>\n",
              "      <td>88</td>\n",
              "      <td>92</td>\n",
              "      <td>91.333333</td>\n",
              "    </tr>\n",
              "    <tr>\n",
              "      <th>2</th>\n",
              "      <td>Charlie</td>\n",
              "      <td>77</td>\n",
              "      <td>79</td>\n",
              "      <td>81</td>\n",
              "      <td>79.000000</td>\n",
              "    </tr>\n",
              "    <tr>\n",
              "      <th>3</th>\n",
              "      <td>David</td>\n",
              "      <td>85</td>\n",
              "      <td>85</td>\n",
              "      <td>89</td>\n",
              "      <td>86.333333</td>\n",
              "    </tr>\n",
              "  </tbody>\n",
              "</table>\n",
              "</div>\n",
              "    <div class=\"colab-df-buttons\">\n",
              "\n",
              "  <div class=\"colab-df-container\">\n",
              "    <button class=\"colab-df-convert\" onclick=\"convertToInteractive('df-61842ae9-09cf-4c71-b4fe-c42f5e0187c4')\"\n",
              "            title=\"Convert this dataframe to an interactive table.\"\n",
              "            style=\"display:none;\">\n",
              "\n",
              "  <svg xmlns=\"http://www.w3.org/2000/svg\" height=\"24px\" viewBox=\"0 -960 960 960\">\n",
              "    <path d=\"M120-120v-720h720v720H120Zm60-500h600v-160H180v160Zm220 220h160v-160H400v160Zm0 220h160v-160H400v160ZM180-400h160v-160H180v160Zm440 0h160v-160H620v160ZM180-180h160v-160H180v160Zm440 0h160v-160H620v160Z\"/>\n",
              "  </svg>\n",
              "    </button>\n",
              "\n",
              "  <style>\n",
              "    .colab-df-container {\n",
              "      display:flex;\n",
              "      gap: 12px;\n",
              "    }\n",
              "\n",
              "    .colab-df-convert {\n",
              "      background-color: #E8F0FE;\n",
              "      border: none;\n",
              "      border-radius: 50%;\n",
              "      cursor: pointer;\n",
              "      display: none;\n",
              "      fill: #1967D2;\n",
              "      height: 32px;\n",
              "      padding: 0 0 0 0;\n",
              "      width: 32px;\n",
              "    }\n",
              "\n",
              "    .colab-df-convert:hover {\n",
              "      background-color: #E2EBFA;\n",
              "      box-shadow: 0px 1px 2px rgba(60, 64, 67, 0.3), 0px 1px 3px 1px rgba(60, 64, 67, 0.15);\n",
              "      fill: #174EA6;\n",
              "    }\n",
              "\n",
              "    .colab-df-buttons div {\n",
              "      margin-bottom: 4px;\n",
              "    }\n",
              "\n",
              "    [theme=dark] .colab-df-convert {\n",
              "      background-color: #3B4455;\n",
              "      fill: #D2E3FC;\n",
              "    }\n",
              "\n",
              "    [theme=dark] .colab-df-convert:hover {\n",
              "      background-color: #434B5C;\n",
              "      box-shadow: 0px 1px 3px 1px rgba(0, 0, 0, 0.15);\n",
              "      filter: drop-shadow(0px 1px 2px rgba(0, 0, 0, 0.3));\n",
              "      fill: #FFFFFF;\n",
              "    }\n",
              "  </style>\n",
              "\n",
              "    <script>\n",
              "      const buttonEl =\n",
              "        document.querySelector('#df-61842ae9-09cf-4c71-b4fe-c42f5e0187c4 button.colab-df-convert');\n",
              "      buttonEl.style.display =\n",
              "        google.colab.kernel.accessAllowed ? 'block' : 'none';\n",
              "\n",
              "      async function convertToInteractive(key) {\n",
              "        const element = document.querySelector('#df-61842ae9-09cf-4c71-b4fe-c42f5e0187c4');\n",
              "        const dataTable =\n",
              "          await google.colab.kernel.invokeFunction('convertToInteractive',\n",
              "                                                    [key], {});\n",
              "        if (!dataTable) return;\n",
              "\n",
              "        const docLinkHtml = 'Like what you see? Visit the ' +\n",
              "          '<a target=\"_blank\" href=https://colab.research.google.com/notebooks/data_table.ipynb>data table notebook</a>'\n",
              "          + ' to learn more about interactive tables.';\n",
              "        element.innerHTML = '';\n",
              "        dataTable['output_type'] = 'display_data';\n",
              "        await google.colab.output.renderOutput(dataTable, element);\n",
              "        const docLink = document.createElement('div');\n",
              "        docLink.innerHTML = docLinkHtml;\n",
              "        element.appendChild(docLink);\n",
              "      }\n",
              "    </script>\n",
              "  </div>\n",
              "\n",
              "\n",
              "<div id=\"df-0eb4c893-238e-4a9e-a8e3-623a90c59590\">\n",
              "  <button class=\"colab-df-quickchart\" onclick=\"quickchart('df-0eb4c893-238e-4a9e-a8e3-623a90c59590')\"\n",
              "            title=\"Suggest charts\"\n",
              "            style=\"display:none;\">\n",
              "\n",
              "<svg xmlns=\"http://www.w3.org/2000/svg\" height=\"24px\"viewBox=\"0 0 24 24\"\n",
              "     width=\"24px\">\n",
              "    <g>\n",
              "        <path d=\"M19 3H5c-1.1 0-2 .9-2 2v14c0 1.1.9 2 2 2h14c1.1 0 2-.9 2-2V5c0-1.1-.9-2-2-2zM9 17H7v-7h2v7zm4 0h-2V7h2v10zm4 0h-2v-4h2v4z\"/>\n",
              "    </g>\n",
              "</svg>\n",
              "  </button>\n",
              "\n",
              "<style>\n",
              "  .colab-df-quickchart {\n",
              "      --bg-color: #E8F0FE;\n",
              "      --fill-color: #1967D2;\n",
              "      --hover-bg-color: #E2EBFA;\n",
              "      --hover-fill-color: #174EA6;\n",
              "      --disabled-fill-color: #AAA;\n",
              "      --disabled-bg-color: #DDD;\n",
              "  }\n",
              "\n",
              "  [theme=dark] .colab-df-quickchart {\n",
              "      --bg-color: #3B4455;\n",
              "      --fill-color: #D2E3FC;\n",
              "      --hover-bg-color: #434B5C;\n",
              "      --hover-fill-color: #FFFFFF;\n",
              "      --disabled-bg-color: #3B4455;\n",
              "      --disabled-fill-color: #666;\n",
              "  }\n",
              "\n",
              "  .colab-df-quickchart {\n",
              "    background-color: var(--bg-color);\n",
              "    border: none;\n",
              "    border-radius: 50%;\n",
              "    cursor: pointer;\n",
              "    display: none;\n",
              "    fill: var(--fill-color);\n",
              "    height: 32px;\n",
              "    padding: 0;\n",
              "    width: 32px;\n",
              "  }\n",
              "\n",
              "  .colab-df-quickchart:hover {\n",
              "    background-color: var(--hover-bg-color);\n",
              "    box-shadow: 0 1px 2px rgba(60, 64, 67, 0.3), 0 1px 3px 1px rgba(60, 64, 67, 0.15);\n",
              "    fill: var(--button-hover-fill-color);\n",
              "  }\n",
              "\n",
              "  .colab-df-quickchart-complete:disabled,\n",
              "  .colab-df-quickchart-complete:disabled:hover {\n",
              "    background-color: var(--disabled-bg-color);\n",
              "    fill: var(--disabled-fill-color);\n",
              "    box-shadow: none;\n",
              "  }\n",
              "\n",
              "  .colab-df-spinner {\n",
              "    border: 2px solid var(--fill-color);\n",
              "    border-color: transparent;\n",
              "    border-bottom-color: var(--fill-color);\n",
              "    animation:\n",
              "      spin 1s steps(1) infinite;\n",
              "  }\n",
              "\n",
              "  @keyframes spin {\n",
              "    0% {\n",
              "      border-color: transparent;\n",
              "      border-bottom-color: var(--fill-color);\n",
              "      border-left-color: var(--fill-color);\n",
              "    }\n",
              "    20% {\n",
              "      border-color: transparent;\n",
              "      border-left-color: var(--fill-color);\n",
              "      border-top-color: var(--fill-color);\n",
              "    }\n",
              "    30% {\n",
              "      border-color: transparent;\n",
              "      border-left-color: var(--fill-color);\n",
              "      border-top-color: var(--fill-color);\n",
              "      border-right-color: var(--fill-color);\n",
              "    }\n",
              "    40% {\n",
              "      border-color: transparent;\n",
              "      border-right-color: var(--fill-color);\n",
              "      border-top-color: var(--fill-color);\n",
              "    }\n",
              "    60% {\n",
              "      border-color: transparent;\n",
              "      border-right-color: var(--fill-color);\n",
              "    }\n",
              "    80% {\n",
              "      border-color: transparent;\n",
              "      border-right-color: var(--fill-color);\n",
              "      border-bottom-color: var(--fill-color);\n",
              "    }\n",
              "    90% {\n",
              "      border-color: transparent;\n",
              "      border-bottom-color: var(--fill-color);\n",
              "    }\n",
              "  }\n",
              "</style>\n",
              "\n",
              "  <script>\n",
              "    async function quickchart(key) {\n",
              "      const quickchartButtonEl =\n",
              "        document.querySelector('#' + key + ' button');\n",
              "      quickchartButtonEl.disabled = true;  // To prevent multiple clicks.\n",
              "      quickchartButtonEl.classList.add('colab-df-spinner');\n",
              "      try {\n",
              "        const charts = await google.colab.kernel.invokeFunction(\n",
              "            'suggestCharts', [key], {});\n",
              "      } catch (error) {\n",
              "        console.error('Error during call to suggestCharts:', error);\n",
              "      }\n",
              "      quickchartButtonEl.classList.remove('colab-df-spinner');\n",
              "      quickchartButtonEl.classList.add('colab-df-quickchart-complete');\n",
              "    }\n",
              "    (() => {\n",
              "      let quickchartButtonEl =\n",
              "        document.querySelector('#df-0eb4c893-238e-4a9e-a8e3-623a90c59590 button');\n",
              "      quickchartButtonEl.style.display =\n",
              "        google.colab.kernel.accessAllowed ? 'block' : 'none';\n",
              "    })();\n",
              "  </script>\n",
              "</div>\n",
              "    </div>\n",
              "  </div>\n"
            ],
            "application/vnd.google.colaboratory.intrinsic+json": {
              "type": "dataframe",
              "variable_name": "df",
              "summary": "{\n  \"name\": \"df\",\n  \"rows\": 4,\n  \"fields\": [\n    {\n      \"column\": \"student\",\n      \"properties\": {\n        \"dtype\": \"string\",\n        \"num_unique_values\": 4,\n        \"samples\": [\n          \"Bob\",\n          \"David\",\n          \"Alice\"\n        ],\n        \"semantic_type\": \"\",\n        \"description\": \"\"\n      }\n    },\n    {\n      \"column\": \"math_score\",\n      \"properties\": {\n        \"dtype\": \"number\",\n        \"std\": 7,\n        \"min\": 77,\n        \"max\": 94,\n        \"num_unique_values\": 4,\n        \"samples\": [\n          94,\n          85,\n          89\n        ],\n        \"semantic_type\": \"\",\n        \"description\": \"\"\n      }\n    },\n    {\n      \"column\": \"english_score\",\n      \"properties\": {\n        \"dtype\": \"number\",\n        \"std\": 5,\n        \"min\": 79,\n        \"max\": 92,\n        \"num_unique_values\": 4,\n        \"samples\": [\n          88,\n          85,\n          92\n        ],\n        \"semantic_type\": \"\",\n        \"description\": \"\"\n      }\n    },\n    {\n      \"column\": \"history_score\",\n      \"properties\": {\n        \"dtype\": \"number\",\n        \"std\": 4,\n        \"min\": 81,\n        \"max\": 92,\n        \"num_unique_values\": 4,\n        \"samples\": [\n          92,\n          89,\n          84\n        ],\n        \"semantic_type\": \"\",\n        \"description\": \"\"\n      }\n    },\n    {\n      \"column\": \"average_score\",\n      \"properties\": {\n        \"dtype\": \"number\",\n        \"std\": 5.251983752196241,\n        \"min\": 79.0,\n        \"max\": 91.33333333333333,\n        \"num_unique_values\": 4,\n        \"samples\": [\n          91.33333333333333,\n          86.33333333333333,\n          88.33333333333333\n        ],\n        \"semantic_type\": \"\",\n        \"description\": \"\"\n      }\n    }\n  ]\n}"
            }
          },
          "metadata": {},
          "execution_count": 23
        }
      ]
    },
    {
      "cell_type": "markdown",
      "id": "34fb1db9",
      "metadata": {
        "id": "34fb1db9"
      },
      "source": [
        "6.У Вас є великий DataFrame df, що представляє транзакції продажу в магазині. Цей DataFrame містить понад 1 мільйон рядків і кілька стовпців, зокрема «product_name», «product_category», «product_price» і «transaction_date».\n",
        "\n",
        "І «product_name», і «product_category» є рядками, що представляють численні, але обмежені унікальні назви продуктів і категорії відповідно.\n",
        "\n",
        "Напишіть код для ефективного перетворення стовпців «product_name» і «product_category» на категорійний тип для ефективного використання пам’яті.\n",
        "Спробуйте вирішити це завдання, мінімізуючи використання пам'яті та зберігаючи читабельність коду. Крім того, виміряйте використання пам’яті до та після перетворення, щоб продемонструвати підвищення ефективності.\n",
        "\n",
        "Порівняйте кількість памʼяті, яку займає наданий набір даних і новий, створений Вами. В лекції був приклад. В скільки разів менше памʼяті займає новий датафрейм?"
      ]
    },
    {
      "cell_type": "code",
      "execution_count": 26,
      "id": "d4926909",
      "metadata": {
        "ExecuteTime": {
          "end_time": "2023-07-29T21:19:30.009527Z",
          "start_time": "2023-07-29T21:19:29.595210Z"
        },
        "id": "d4926909"
      },
      "outputs": [],
      "source": [
        "import pandas as pd\n",
        "import numpy as np\n",
        "\n",
        "np.random.seed(0)\n",
        "\n",
        "products = ['apple', 'banana', 'cherry', 'dates', 'elderberry']\n",
        "categories = ['fruit', 'fruit', 'fruit', 'fruit', 'fruit']\n",
        "\n",
        "N_ROWS = 10**6\n",
        "df = pd.DataFrame({\n",
        "    'product_name': np.random.choice(products, N_ROWS),\n",
        "    'product_category': np.random.choice(categories, N_ROWS),\n",
        "    'product_price': np.random.uniform(1, 10, N_ROWS),\n",
        "    'transaction_date': pd.date_range(start='1/1/2000', periods=N_ROWS, freq='h')\n",
        "})\n"
      ]
    },
    {
      "cell_type": "code",
      "source": [
        "df.info()"
      ],
      "metadata": {
        "colab": {
          "base_uri": "https://localhost:8080/"
        },
        "id": "FNS96RLNZp83",
        "outputId": "952553d8-8f0c-4826-9271-16b068bfc39e"
      },
      "id": "FNS96RLNZp83",
      "execution_count": 27,
      "outputs": [
        {
          "output_type": "stream",
          "name": "stdout",
          "text": [
            "<class 'pandas.core.frame.DataFrame'>\n",
            "RangeIndex: 1000000 entries, 0 to 999999\n",
            "Data columns (total 4 columns):\n",
            " #   Column            Non-Null Count    Dtype         \n",
            "---  ------            --------------    -----         \n",
            " 0   product_name      1000000 non-null  object        \n",
            " 1   product_category  1000000 non-null  object        \n",
            " 2   product_price     1000000 non-null  float64       \n",
            " 3   transaction_date  1000000 non-null  datetime64[ns]\n",
            "dtypes: datetime64[ns](1), float64(1), object(2)\n",
            "memory usage: 30.5+ MB\n"
          ]
        }
      ]
    },
    {
      "cell_type": "code",
      "source": [
        "old_value = df.memory_usage(index=False).sum()\n",
        "old_value"
      ],
      "metadata": {
        "colab": {
          "base_uri": "https://localhost:8080/"
        },
        "id": "AxJOgDrsYw6n",
        "outputId": "63787c24-4f90-4a90-9596-47be42c86c5d"
      },
      "id": "AxJOgDrsYw6n",
      "execution_count": 28,
      "outputs": [
        {
          "output_type": "execute_result",
          "data": {
            "text/plain": [
              "32000000"
            ]
          },
          "metadata": {},
          "execution_count": 28
        }
      ]
    },
    {
      "cell_type": "code",
      "source": [
        "df['product_name'] = pd.Categorical(df['product_name'])\n",
        "df['product_category'] = pd.Categorical(df['product_category'])\n",
        "\n",
        "new_value = df.memory_usage(index=False).sum()\n",
        "new_value"
      ],
      "metadata": {
        "colab": {
          "base_uri": "https://localhost:8080/"
        },
        "id": "0rHC1-zFZHnz",
        "outputId": "8b3e0ae2-2d43-463b-86fb-b30dcadeaf22"
      },
      "id": "0rHC1-zFZHnz",
      "execution_count": 29,
      "outputs": [
        {
          "output_type": "execute_result",
          "data": {
            "text/plain": [
              "18000328"
            ]
          },
          "metadata": {},
          "execution_count": 29
        }
      ]
    },
    {
      "cell_type": "code",
      "source": [
        "df.info()"
      ],
      "metadata": {
        "colab": {
          "base_uri": "https://localhost:8080/"
        },
        "id": "-auva1ryZt4y",
        "outputId": "7264702d-0f94-4e38-fa0b-ebd0ca97ad2a"
      },
      "id": "-auva1ryZt4y",
      "execution_count": 30,
      "outputs": [
        {
          "output_type": "stream",
          "name": "stdout",
          "text": [
            "<class 'pandas.core.frame.DataFrame'>\n",
            "RangeIndex: 1000000 entries, 0 to 999999\n",
            "Data columns (total 4 columns):\n",
            " #   Column            Non-Null Count    Dtype         \n",
            "---  ------            --------------    -----         \n",
            " 0   product_name      1000000 non-null  category      \n",
            " 1   product_category  1000000 non-null  category      \n",
            " 2   product_price     1000000 non-null  float64       \n",
            " 3   transaction_date  1000000 non-null  datetime64[ns]\n",
            "dtypes: category(2), datetime64[ns](1), float64(1)\n",
            "memory usage: 17.2 MB\n"
          ]
        }
      ]
    },
    {
      "cell_type": "code",
      "source": [
        "print(f\"Маємо зниження витрат пам'яті на {round((1 - new_value / old_value) * 100, 2)}% !\")"
      ],
      "metadata": {
        "colab": {
          "base_uri": "https://localhost:8080/"
        },
        "id": "bCQf6hL1asGg",
        "outputId": "b57d05fd-55ec-4f1d-b8fe-e61a995d9a26"
      },
      "id": "bCQf6hL1asGg",
      "execution_count": 32,
      "outputs": [
        {
          "output_type": "stream",
          "name": "stdout",
          "text": [
            "Маємо зниження витрат пам'яті на 43.75% !\n"
          ]
        }
      ]
    },
    {
      "cell_type": "markdown",
      "id": "131cc08d",
      "metadata": {
        "id": "131cc08d"
      },
      "source": [
        "7.В цьому завданні кілька пунктів. Треба виконати усі послідовно.   \n",
        "    7.1. Завантажте дані у pandas dataframe з файла `ecommerce_data.csv`. Обовʼязково при завантаженні вкажіть параметр `encoding = 'ISO-8859-1'`, без нього буде помилка.  \n",
        "    7.2. Заповніть пропущені значення в колонці CustomerID на -1 та перетворіть тип цієї колонки на str, адже зараз вона типу float, а це не правильний тип даних для ідентифікатора клієнта.  \n",
        "    7.3. З допомогою бібліотеки sweetviz побудуйте html звіт, який порівнює дані для країни \"Germany\" і країни \"France\". У Вас можуть виникнути багато попереджень (Warning), їх рекомендую вимкнути наступним шматком коду   \n",
        "    \n",
        "   \n",
        "    import warnings\n",
        "\n",
        "    with warnings.catch_warnings(record=True):\n",
        "        # your code\n",
        "    \n",
        "    \n",
        "   7.4.Напишіть 5 відмінностей для двох зазначених країн на основі побудованого звіту, без виконання додаткового аналізу іншими інструментами."
      ]
    },
    {
      "cell_type": "code",
      "source": [
        "from google.colab import drive\n",
        "drive.mount('/content/drive')"
      ],
      "metadata": {
        "colab": {
          "base_uri": "https://localhost:8080/"
        },
        "id": "zAVyIQxHc0tq",
        "outputId": "1703b47e-aa12-4add-b14a-44e9f9ebb039"
      },
      "id": "zAVyIQxHc0tq",
      "execution_count": 33,
      "outputs": [
        {
          "output_type": "stream",
          "name": "stdout",
          "text": [
            "Mounted at /content/drive\n"
          ]
        }
      ]
    },
    {
      "cell_type": "code",
      "source": [
        "df = pd.read_csv('/content/drive/MyDrive/Python/Аналітик 7-0/Лекции/Модуль 7/data/ecommerce_data.csv', encoding='ISO-8859-1')"
      ],
      "metadata": {
        "id": "Q39-HUsIc7UV"
      },
      "id": "Q39-HUsIc7UV",
      "execution_count": 45,
      "outputs": []
    },
    {
      "cell_type": "code",
      "source": [
        "df.info()"
      ],
      "metadata": {
        "colab": {
          "base_uri": "https://localhost:8080/"
        },
        "id": "JIcWR30jdRSN",
        "outputId": "2fdd8c63-a208-43a1-fc39-236db7dd9bb6"
      },
      "id": "JIcWR30jdRSN",
      "execution_count": 46,
      "outputs": [
        {
          "output_type": "stream",
          "name": "stdout",
          "text": [
            "<class 'pandas.core.frame.DataFrame'>\n",
            "RangeIndex: 541909 entries, 0 to 541908\n",
            "Data columns (total 8 columns):\n",
            " #   Column       Non-Null Count   Dtype  \n",
            "---  ------       --------------   -----  \n",
            " 0   InvoiceNo    541909 non-null  object \n",
            " 1   StockCode    541909 non-null  object \n",
            " 2   Description  540455 non-null  object \n",
            " 3   Quantity     541909 non-null  int64  \n",
            " 4   InvoiceDate  541909 non-null  object \n",
            " 5   UnitPrice    541909 non-null  float64\n",
            " 6   CustomerID   406829 non-null  float64\n",
            " 7   Country      541909 non-null  object \n",
            "dtypes: float64(2), int64(1), object(5)\n",
            "memory usage: 33.1+ MB\n"
          ]
        }
      ]
    },
    {
      "cell_type": "code",
      "source": [
        "df.head()"
      ],
      "metadata": {
        "colab": {
          "base_uri": "https://localhost:8080/",
          "height": 206
        },
        "id": "_fV9xNrSdWDL",
        "outputId": "58a9dfb3-729e-4566-d4ae-cc55146ea61a"
      },
      "id": "_fV9xNrSdWDL",
      "execution_count": 47,
      "outputs": [
        {
          "output_type": "execute_result",
          "data": {
            "text/plain": [
              "  InvoiceNo StockCode                          Description  Quantity  \\\n",
              "0    536365    85123A   WHITE HANGING HEART T-LIGHT HOLDER         6   \n",
              "1    536365     71053                  WHITE METAL LANTERN         6   \n",
              "2    536365    84406B       CREAM CUPID HEARTS COAT HANGER         8   \n",
              "3    536365    84029G  KNITTED UNION FLAG HOT WATER BOTTLE         6   \n",
              "4    536365    84029E       RED WOOLLY HOTTIE WHITE HEART.         6   \n",
              "\n",
              "      InvoiceDate  UnitPrice  CustomerID         Country  \n",
              "0  12/1/2010 8:26       2.55     17850.0  United Kingdom  \n",
              "1  12/1/2010 8:26       3.39     17850.0  United Kingdom  \n",
              "2  12/1/2010 8:26       2.75     17850.0  United Kingdom  \n",
              "3  12/1/2010 8:26       3.39     17850.0  United Kingdom  \n",
              "4  12/1/2010 8:26       3.39     17850.0  United Kingdom  "
            ],
            "text/html": [
              "\n",
              "  <div id=\"df-0fdbf7d7-698f-45ff-8a0d-440d1f143df6\" class=\"colab-df-container\">\n",
              "    <div>\n",
              "<style scoped>\n",
              "    .dataframe tbody tr th:only-of-type {\n",
              "        vertical-align: middle;\n",
              "    }\n",
              "\n",
              "    .dataframe tbody tr th {\n",
              "        vertical-align: top;\n",
              "    }\n",
              "\n",
              "    .dataframe thead th {\n",
              "        text-align: right;\n",
              "    }\n",
              "</style>\n",
              "<table border=\"1\" class=\"dataframe\">\n",
              "  <thead>\n",
              "    <tr style=\"text-align: right;\">\n",
              "      <th></th>\n",
              "      <th>InvoiceNo</th>\n",
              "      <th>StockCode</th>\n",
              "      <th>Description</th>\n",
              "      <th>Quantity</th>\n",
              "      <th>InvoiceDate</th>\n",
              "      <th>UnitPrice</th>\n",
              "      <th>CustomerID</th>\n",
              "      <th>Country</th>\n",
              "    </tr>\n",
              "  </thead>\n",
              "  <tbody>\n",
              "    <tr>\n",
              "      <th>0</th>\n",
              "      <td>536365</td>\n",
              "      <td>85123A</td>\n",
              "      <td>WHITE HANGING HEART T-LIGHT HOLDER</td>\n",
              "      <td>6</td>\n",
              "      <td>12/1/2010 8:26</td>\n",
              "      <td>2.55</td>\n",
              "      <td>17850.0</td>\n",
              "      <td>United Kingdom</td>\n",
              "    </tr>\n",
              "    <tr>\n",
              "      <th>1</th>\n",
              "      <td>536365</td>\n",
              "      <td>71053</td>\n",
              "      <td>WHITE METAL LANTERN</td>\n",
              "      <td>6</td>\n",
              "      <td>12/1/2010 8:26</td>\n",
              "      <td>3.39</td>\n",
              "      <td>17850.0</td>\n",
              "      <td>United Kingdom</td>\n",
              "    </tr>\n",
              "    <tr>\n",
              "      <th>2</th>\n",
              "      <td>536365</td>\n",
              "      <td>84406B</td>\n",
              "      <td>CREAM CUPID HEARTS COAT HANGER</td>\n",
              "      <td>8</td>\n",
              "      <td>12/1/2010 8:26</td>\n",
              "      <td>2.75</td>\n",
              "      <td>17850.0</td>\n",
              "      <td>United Kingdom</td>\n",
              "    </tr>\n",
              "    <tr>\n",
              "      <th>3</th>\n",
              "      <td>536365</td>\n",
              "      <td>84029G</td>\n",
              "      <td>KNITTED UNION FLAG HOT WATER BOTTLE</td>\n",
              "      <td>6</td>\n",
              "      <td>12/1/2010 8:26</td>\n",
              "      <td>3.39</td>\n",
              "      <td>17850.0</td>\n",
              "      <td>United Kingdom</td>\n",
              "    </tr>\n",
              "    <tr>\n",
              "      <th>4</th>\n",
              "      <td>536365</td>\n",
              "      <td>84029E</td>\n",
              "      <td>RED WOOLLY HOTTIE WHITE HEART.</td>\n",
              "      <td>6</td>\n",
              "      <td>12/1/2010 8:26</td>\n",
              "      <td>3.39</td>\n",
              "      <td>17850.0</td>\n",
              "      <td>United Kingdom</td>\n",
              "    </tr>\n",
              "  </tbody>\n",
              "</table>\n",
              "</div>\n",
              "    <div class=\"colab-df-buttons\">\n",
              "\n",
              "  <div class=\"colab-df-container\">\n",
              "    <button class=\"colab-df-convert\" onclick=\"convertToInteractive('df-0fdbf7d7-698f-45ff-8a0d-440d1f143df6')\"\n",
              "            title=\"Convert this dataframe to an interactive table.\"\n",
              "            style=\"display:none;\">\n",
              "\n",
              "  <svg xmlns=\"http://www.w3.org/2000/svg\" height=\"24px\" viewBox=\"0 -960 960 960\">\n",
              "    <path d=\"M120-120v-720h720v720H120Zm60-500h600v-160H180v160Zm220 220h160v-160H400v160Zm0 220h160v-160H400v160ZM180-400h160v-160H180v160Zm440 0h160v-160H620v160ZM180-180h160v-160H180v160Zm440 0h160v-160H620v160Z\"/>\n",
              "  </svg>\n",
              "    </button>\n",
              "\n",
              "  <style>\n",
              "    .colab-df-container {\n",
              "      display:flex;\n",
              "      gap: 12px;\n",
              "    }\n",
              "\n",
              "    .colab-df-convert {\n",
              "      background-color: #E8F0FE;\n",
              "      border: none;\n",
              "      border-radius: 50%;\n",
              "      cursor: pointer;\n",
              "      display: none;\n",
              "      fill: #1967D2;\n",
              "      height: 32px;\n",
              "      padding: 0 0 0 0;\n",
              "      width: 32px;\n",
              "    }\n",
              "\n",
              "    .colab-df-convert:hover {\n",
              "      background-color: #E2EBFA;\n",
              "      box-shadow: 0px 1px 2px rgba(60, 64, 67, 0.3), 0px 1px 3px 1px rgba(60, 64, 67, 0.15);\n",
              "      fill: #174EA6;\n",
              "    }\n",
              "\n",
              "    .colab-df-buttons div {\n",
              "      margin-bottom: 4px;\n",
              "    }\n",
              "\n",
              "    [theme=dark] .colab-df-convert {\n",
              "      background-color: #3B4455;\n",
              "      fill: #D2E3FC;\n",
              "    }\n",
              "\n",
              "    [theme=dark] .colab-df-convert:hover {\n",
              "      background-color: #434B5C;\n",
              "      box-shadow: 0px 1px 3px 1px rgba(0, 0, 0, 0.15);\n",
              "      filter: drop-shadow(0px 1px 2px rgba(0, 0, 0, 0.3));\n",
              "      fill: #FFFFFF;\n",
              "    }\n",
              "  </style>\n",
              "\n",
              "    <script>\n",
              "      const buttonEl =\n",
              "        document.querySelector('#df-0fdbf7d7-698f-45ff-8a0d-440d1f143df6 button.colab-df-convert');\n",
              "      buttonEl.style.display =\n",
              "        google.colab.kernel.accessAllowed ? 'block' : 'none';\n",
              "\n",
              "      async function convertToInteractive(key) {\n",
              "        const element = document.querySelector('#df-0fdbf7d7-698f-45ff-8a0d-440d1f143df6');\n",
              "        const dataTable =\n",
              "          await google.colab.kernel.invokeFunction('convertToInteractive',\n",
              "                                                    [key], {});\n",
              "        if (!dataTable) return;\n",
              "\n",
              "        const docLinkHtml = 'Like what you see? Visit the ' +\n",
              "          '<a target=\"_blank\" href=https://colab.research.google.com/notebooks/data_table.ipynb>data table notebook</a>'\n",
              "          + ' to learn more about interactive tables.';\n",
              "        element.innerHTML = '';\n",
              "        dataTable['output_type'] = 'display_data';\n",
              "        await google.colab.output.renderOutput(dataTable, element);\n",
              "        const docLink = document.createElement('div');\n",
              "        docLink.innerHTML = docLinkHtml;\n",
              "        element.appendChild(docLink);\n",
              "      }\n",
              "    </script>\n",
              "  </div>\n",
              "\n",
              "\n",
              "<div id=\"df-ac3da406-1943-4cc3-bd73-527db45aba93\">\n",
              "  <button class=\"colab-df-quickchart\" onclick=\"quickchart('df-ac3da406-1943-4cc3-bd73-527db45aba93')\"\n",
              "            title=\"Suggest charts\"\n",
              "            style=\"display:none;\">\n",
              "\n",
              "<svg xmlns=\"http://www.w3.org/2000/svg\" height=\"24px\"viewBox=\"0 0 24 24\"\n",
              "     width=\"24px\">\n",
              "    <g>\n",
              "        <path d=\"M19 3H5c-1.1 0-2 .9-2 2v14c0 1.1.9 2 2 2h14c1.1 0 2-.9 2-2V5c0-1.1-.9-2-2-2zM9 17H7v-7h2v7zm4 0h-2V7h2v10zm4 0h-2v-4h2v4z\"/>\n",
              "    </g>\n",
              "</svg>\n",
              "  </button>\n",
              "\n",
              "<style>\n",
              "  .colab-df-quickchart {\n",
              "      --bg-color: #E8F0FE;\n",
              "      --fill-color: #1967D2;\n",
              "      --hover-bg-color: #E2EBFA;\n",
              "      --hover-fill-color: #174EA6;\n",
              "      --disabled-fill-color: #AAA;\n",
              "      --disabled-bg-color: #DDD;\n",
              "  }\n",
              "\n",
              "  [theme=dark] .colab-df-quickchart {\n",
              "      --bg-color: #3B4455;\n",
              "      --fill-color: #D2E3FC;\n",
              "      --hover-bg-color: #434B5C;\n",
              "      --hover-fill-color: #FFFFFF;\n",
              "      --disabled-bg-color: #3B4455;\n",
              "      --disabled-fill-color: #666;\n",
              "  }\n",
              "\n",
              "  .colab-df-quickchart {\n",
              "    background-color: var(--bg-color);\n",
              "    border: none;\n",
              "    border-radius: 50%;\n",
              "    cursor: pointer;\n",
              "    display: none;\n",
              "    fill: var(--fill-color);\n",
              "    height: 32px;\n",
              "    padding: 0;\n",
              "    width: 32px;\n",
              "  }\n",
              "\n",
              "  .colab-df-quickchart:hover {\n",
              "    background-color: var(--hover-bg-color);\n",
              "    box-shadow: 0 1px 2px rgba(60, 64, 67, 0.3), 0 1px 3px 1px rgba(60, 64, 67, 0.15);\n",
              "    fill: var(--button-hover-fill-color);\n",
              "  }\n",
              "\n",
              "  .colab-df-quickchart-complete:disabled,\n",
              "  .colab-df-quickchart-complete:disabled:hover {\n",
              "    background-color: var(--disabled-bg-color);\n",
              "    fill: var(--disabled-fill-color);\n",
              "    box-shadow: none;\n",
              "  }\n",
              "\n",
              "  .colab-df-spinner {\n",
              "    border: 2px solid var(--fill-color);\n",
              "    border-color: transparent;\n",
              "    border-bottom-color: var(--fill-color);\n",
              "    animation:\n",
              "      spin 1s steps(1) infinite;\n",
              "  }\n",
              "\n",
              "  @keyframes spin {\n",
              "    0% {\n",
              "      border-color: transparent;\n",
              "      border-bottom-color: var(--fill-color);\n",
              "      border-left-color: var(--fill-color);\n",
              "    }\n",
              "    20% {\n",
              "      border-color: transparent;\n",
              "      border-left-color: var(--fill-color);\n",
              "      border-top-color: var(--fill-color);\n",
              "    }\n",
              "    30% {\n",
              "      border-color: transparent;\n",
              "      border-left-color: var(--fill-color);\n",
              "      border-top-color: var(--fill-color);\n",
              "      border-right-color: var(--fill-color);\n",
              "    }\n",
              "    40% {\n",
              "      border-color: transparent;\n",
              "      border-right-color: var(--fill-color);\n",
              "      border-top-color: var(--fill-color);\n",
              "    }\n",
              "    60% {\n",
              "      border-color: transparent;\n",
              "      border-right-color: var(--fill-color);\n",
              "    }\n",
              "    80% {\n",
              "      border-color: transparent;\n",
              "      border-right-color: var(--fill-color);\n",
              "      border-bottom-color: var(--fill-color);\n",
              "    }\n",
              "    90% {\n",
              "      border-color: transparent;\n",
              "      border-bottom-color: var(--fill-color);\n",
              "    }\n",
              "  }\n",
              "</style>\n",
              "\n",
              "  <script>\n",
              "    async function quickchart(key) {\n",
              "      const quickchartButtonEl =\n",
              "        document.querySelector('#' + key + ' button');\n",
              "      quickchartButtonEl.disabled = true;  // To prevent multiple clicks.\n",
              "      quickchartButtonEl.classList.add('colab-df-spinner');\n",
              "      try {\n",
              "        const charts = await google.colab.kernel.invokeFunction(\n",
              "            'suggestCharts', [key], {});\n",
              "      } catch (error) {\n",
              "        console.error('Error during call to suggestCharts:', error);\n",
              "      }\n",
              "      quickchartButtonEl.classList.remove('colab-df-spinner');\n",
              "      quickchartButtonEl.classList.add('colab-df-quickchart-complete');\n",
              "    }\n",
              "    (() => {\n",
              "      let quickchartButtonEl =\n",
              "        document.querySelector('#df-ac3da406-1943-4cc3-bd73-527db45aba93 button');\n",
              "      quickchartButtonEl.style.display =\n",
              "        google.colab.kernel.accessAllowed ? 'block' : 'none';\n",
              "    })();\n",
              "  </script>\n",
              "</div>\n",
              "    </div>\n",
              "  </div>\n"
            ],
            "application/vnd.google.colaboratory.intrinsic+json": {
              "type": "dataframe",
              "variable_name": "df"
            }
          },
          "metadata": {},
          "execution_count": 47
        }
      ]
    },
    {
      "cell_type": "code",
      "source": [
        "df['CustomerID'].isnull().sum()"
      ],
      "metadata": {
        "colab": {
          "base_uri": "https://localhost:8080/"
        },
        "id": "4nZ6a7cLe6Tv",
        "outputId": "6c52f14b-3682-4ff7-aea6-e9a07d0945ce"
      },
      "id": "4nZ6a7cLe6Tv",
      "execution_count": 48,
      "outputs": [
        {
          "output_type": "execute_result",
          "data": {
            "text/plain": [
              "135080"
            ]
          },
          "metadata": {},
          "execution_count": 48
        }
      ]
    },
    {
      "cell_type": "code",
      "source": [
        "df['CustomerID'] = df['CustomerID'].fillna(-1)\n",
        "df['CustomerID'] = df['CustomerID'].astype(str)"
      ],
      "metadata": {
        "id": "i-5bXLBud7pp"
      },
      "id": "i-5bXLBud7pp",
      "execution_count": 49,
      "outputs": []
    },
    {
      "cell_type": "code",
      "source": [
        "df['CustomerID'].isnull().sum()"
      ],
      "metadata": {
        "colab": {
          "base_uri": "https://localhost:8080/"
        },
        "id": "wGwEPl41eADH",
        "outputId": "9e383f26-5b7f-41bc-c25d-86fb2e3e8a06"
      },
      "id": "wGwEPl41eADH",
      "execution_count": 50,
      "outputs": [
        {
          "output_type": "execute_result",
          "data": {
            "text/plain": [
              "0"
            ]
          },
          "metadata": {},
          "execution_count": 50
        }
      ]
    },
    {
      "cell_type": "code",
      "source": [
        "! pip install sweetviz"
      ],
      "metadata": {
        "colab": {
          "base_uri": "https://localhost:8080/"
        },
        "id": "aHrMOabahUgR",
        "outputId": "8ba92593-610d-4f28-bc4a-5b8c9d1b6c50"
      },
      "id": "aHrMOabahUgR",
      "execution_count": 58,
      "outputs": [
        {
          "output_type": "stream",
          "name": "stdout",
          "text": [
            "Collecting sweetviz\n",
            "  Downloading sweetviz-2.3.1-py3-none-any.whl.metadata (24 kB)\n",
            "Requirement already satisfied: pandas!=1.0.0,!=1.0.1,!=1.0.2,>=0.25.3 in /usr/local/lib/python3.11/dist-packages (from sweetviz) (2.2.2)\n",
            "Requirement already satisfied: numpy>=1.16.0 in /usr/local/lib/python3.11/dist-packages (from sweetviz) (1.26.4)\n",
            "Requirement already satisfied: matplotlib>=3.1.3 in /usr/local/lib/python3.11/dist-packages (from sweetviz) (3.10.0)\n",
            "Requirement already satisfied: tqdm>=4.43.0 in /usr/local/lib/python3.11/dist-packages (from sweetviz) (4.67.1)\n",
            "Requirement already satisfied: scipy>=1.3.2 in /usr/local/lib/python3.11/dist-packages (from sweetviz) (1.13.1)\n",
            "Requirement already satisfied: jinja2>=2.11.1 in /usr/local/lib/python3.11/dist-packages (from sweetviz) (3.1.5)\n",
            "Requirement already satisfied: importlib-resources>=1.2.0 in /usr/local/lib/python3.11/dist-packages (from sweetviz) (6.5.2)\n",
            "Requirement already satisfied: MarkupSafe>=2.0 in /usr/local/lib/python3.11/dist-packages (from jinja2>=2.11.1->sweetviz) (3.0.2)\n",
            "Requirement already satisfied: contourpy>=1.0.1 in /usr/local/lib/python3.11/dist-packages (from matplotlib>=3.1.3->sweetviz) (1.3.1)\n",
            "Requirement already satisfied: cycler>=0.10 in /usr/local/lib/python3.11/dist-packages (from matplotlib>=3.1.3->sweetviz) (0.12.1)\n",
            "Requirement already satisfied: fonttools>=4.22.0 in /usr/local/lib/python3.11/dist-packages (from matplotlib>=3.1.3->sweetviz) (4.55.7)\n",
            "Requirement already satisfied: kiwisolver>=1.3.1 in /usr/local/lib/python3.11/dist-packages (from matplotlib>=3.1.3->sweetviz) (1.4.8)\n",
            "Requirement already satisfied: packaging>=20.0 in /usr/local/lib/python3.11/dist-packages (from matplotlib>=3.1.3->sweetviz) (24.2)\n",
            "Requirement already satisfied: pillow>=8 in /usr/local/lib/python3.11/dist-packages (from matplotlib>=3.1.3->sweetviz) (11.1.0)\n",
            "Requirement already satisfied: pyparsing>=2.3.1 in /usr/local/lib/python3.11/dist-packages (from matplotlib>=3.1.3->sweetviz) (3.2.1)\n",
            "Requirement already satisfied: python-dateutil>=2.7 in /usr/local/lib/python3.11/dist-packages (from matplotlib>=3.1.3->sweetviz) (2.8.2)\n",
            "Requirement already satisfied: pytz>=2020.1 in /usr/local/lib/python3.11/dist-packages (from pandas!=1.0.0,!=1.0.1,!=1.0.2,>=0.25.3->sweetviz) (2024.2)\n",
            "Requirement already satisfied: tzdata>=2022.7 in /usr/local/lib/python3.11/dist-packages (from pandas!=1.0.0,!=1.0.1,!=1.0.2,>=0.25.3->sweetviz) (2025.1)\n",
            "Requirement already satisfied: six>=1.5 in /usr/local/lib/python3.11/dist-packages (from python-dateutil>=2.7->matplotlib>=3.1.3->sweetviz) (1.17.0)\n",
            "Downloading sweetviz-2.3.1-py3-none-any.whl (15.1 MB)\n",
            "\u001b[2K   \u001b[90m━━━━━━━━━━━━━━━━━━━━━━━━━━━━━━━━━━━━━━━━\u001b[0m \u001b[32m15.1/15.1 MB\u001b[0m \u001b[31m78.4 MB/s\u001b[0m eta \u001b[36m0:00:00\u001b[0m\n",
            "\u001b[?25hInstalling collected packages: sweetviz\n",
            "Successfully installed sweetviz-2.3.1\n"
          ]
        }
      ]
    },
    {
      "cell_type": "code",
      "source": [
        "import sweetviz as sv\n",
        "import warnings\n",
        "\n",
        "with warnings.catch_warnings(record=True):\n",
        "    compare_report = sv.compare(\n",
        "    [df[df['Country'] == 'Germany'], \"Germany\"],\n",
        "    [df[df['Country'] == 'France'], \"France\"])\n",
        "    compare_report.show_html('compare_report.html')"
      ],
      "metadata": {
        "colab": {
          "base_uri": "https://localhost:8080/",
          "height": 67,
          "referenced_widgets": [
            "06bc2a48ac8f4126b18fc1a143113c10",
            "8a9514411b30408ab3b1d80f092abb6a",
            "c3ede66129364aeea7696a4b587de018",
            "9d1b76f74d404867b860579f9e289768",
            "bda186247bbb43cfae79dfa3d1485857",
            "1ae23fafe12a44eea6749dfd50b214ae",
            "8d08cd55bf804cec8294fdaacb3e2370",
            "a89c2b8d73054cc5845db8cfa1fe9935",
            "5312ee7823384a899b17a748175f3f51",
            "26613c4c16894c768bf203445c0428f5",
            "5d5315ba59b2449c93b22d26d9239986"
          ]
        },
        "id": "5-yTS1PZfNnX",
        "outputId": "9b9361f3-eb86-44ad-f2fc-d485328ee52d"
      },
      "id": "5-yTS1PZfNnX",
      "execution_count": 59,
      "outputs": [
        {
          "output_type": "display_data",
          "data": {
            "text/plain": [
              "                                             |          | [  0%]   00:00 -> (? left)"
            ],
            "application/vnd.jupyter.widget-view+json": {
              "version_major": 2,
              "version_minor": 0,
              "model_id": "06bc2a48ac8f4126b18fc1a143113c10"
            }
          },
          "metadata": {}
        },
        {
          "output_type": "stream",
          "name": "stdout",
          "text": [
            "Report compare_report.html was generated! NOTEBOOK/COLAB USERS: the web browser MAY not pop up, regardless, the report IS saved in your notebook/colab files.\n"
          ]
        }
      ]
    },
    {
      "cell_type": "markdown",
      "source": [
        "7.4 Висновки:\n",
        "1. Кількість записів: 9495 - Germany, 8557 - France;\n",
        "2. Максимум по полю Quantity:  600 - Germany, 912 - France;\n",
        "3. Максимум по полю UnitPrice: 600 - Germany, 4161 - France;\n",
        "4. 95% по полю Quantity: 32- Germany, 36 - France;\n",
        "5. Унікальні (Distinct) по полю CustomerID: 95- Germany, 88 - France;\n"
      ],
      "metadata": {
        "id": "ouzuad1qjJA-"
      },
      "id": "ouzuad1qjJA-"
    },
    {
      "cell_type": "markdown",
      "id": "07ae375a",
      "metadata": {
        "ExecuteTime": {
          "end_time": "2023-07-30T18:55:42.650457Z",
          "start_time": "2023-07-30T18:55:42.635729Z"
        },
        "id": "07ae375a"
      },
      "source": [
        "8.З допомогою ChatGPT виявіть, чи є та які помилки в наступному коді.  \n",
        "Попросіть після цього переписати код із дотриманням PEP8. Проаналізуйте результат. Чи справді ChatGPT виправив всі стилістичні помилки? Якщо ні, напишіть йому ще кілька запитів, аби код відповідав вимогам PEP8.  \n",
        "Вставте фінальну версію коду з чату у ноутбук та запустіть на заданому списку. Має вертатись 50.  \n",
        "Напишіть, які промпти (інструкції) при зверненні до ChatGPT ви застосували та додайте скріншот(-и) з промптами та відповідями чата.  \n",
        "Якщо зробили висновки при виконанні цього завдання, то діліться також :)\n",
        "\n",
        "**ЯК ВСТАВИТИ СКРІНШОТ в Jupyter Notebook** :\n",
        "1. Створіть нову Markdown клітинку\n",
        "2. В новоствореній клітинці обираєте в меню Jupyter Notebook Edit -> Insert Image\n",
        "3. Обираєте картинку\n",
        "4. В клітинці має зʼявитись текст, який містить картинку. Запустіть клітинку.\n",
        "\n",
        "Або можна просто перетягнути картинку в Markdown клітинку."
      ]
    },
    {
      "cell_type": "code",
      "execution_count": 68,
      "id": "a5c010c4",
      "metadata": {
        "ExecuteTime": {
          "end_time": "2023-07-30T19:16:20.977219Z",
          "start_time": "2023-07-30T19:16:20.973688Z"
        },
        "id": "a5c010c4"
      },
      "outputs": [],
      "source": [
        "def CalculateVariance(nl):\n",
        "    sum_list = 0\n",
        "    for n in nl:\n",
        "        sum_list = sum_list + n\n",
        "    mean = sum_list / len(nl)\n",
        "    sum_squares = 0\n",
        "    for n in nl:\n",
        "        sum_squares = sum_squares + n**2\n",
        "    mean_squares = sum_squares / len(nl)\n",
        "    return mean_squares"
      ]
    },
    {
      "cell_type": "code",
      "execution_count": 69,
      "id": "24bb3f81",
      "metadata": {
        "ExecuteTime": {
          "end_time": "2023-07-30T19:16:09.201841Z",
          "start_time": "2023-07-30T19:16:09.199174Z"
        },
        "id": "24bb3f81"
      },
      "outputs": [],
      "source": [
        "input_list = [75, 80, 85, 90, 95]"
      ]
    },
    {
      "cell_type": "code",
      "source": [
        "def calculate_variance(numbers, sample=False):\n",
        "    total_sum = 0\n",
        "    for num in numbers:\n",
        "        total_sum += num\n",
        "    mean = total_sum / len(numbers)\n",
        "\n",
        "    total_sum_of_squares = 0\n",
        "    for num in numbers:\n",
        "        total_sum_of_squares += num ** 2\n",
        "    mean_of_squares = total_sum_of_squares / len(numbers)\n",
        "\n",
        "    # Варіанція: вибіркова або популяційна\n",
        "    variance = mean_of_squares - mean ** 2\n",
        "\n",
        "    if sample:\n",
        "        # Для вибіркової дисперсії ділимо на n-1\n",
        "        return variance * (len(numbers) / (len(numbers) - 1))\n",
        "\n",
        "    # Для популяційної дисперсії\n",
        "    return variance\n",
        "\n",
        "\n",
        "input_list = [75, 80, 85, 90, 95]\n",
        "print(calculate_variance(input_list))  # Для популяційної дисперсії\n",
        "print(calculate_variance(input_list, sample=True))  # Для вибіркової дисперсії\n",
        "\n"
      ],
      "metadata": {
        "colab": {
          "base_uri": "https://localhost:8080/"
        },
        "id": "dAc0_TH7m-6e",
        "outputId": "49358c94-5e48-4a79-8ba1-2f19fd5d4349"
      },
      "id": "dAc0_TH7m-6e",
      "execution_count": 71,
      "outputs": [
        {
          "output_type": "stream",
          "name": "stdout",
          "text": [
            "50.0\n",
            "62.5\n"
          ]
        }
      ]
    },
    {
      "cell_type": "markdown",
      "source": [
        "Перелік запитів:\n",
        "1. Чи є в цьому коді помилки?\n",
        "2. Перепиши цей код  із дотриманням PEP8\n",
        "3. знову перевір цей код на відповідність pep8"
      ],
      "metadata": {
        "id": "NVKn4ZbvnNDE"
      },
      "id": "NVKn4ZbvnNDE"
    },
    {
      "cell_type": "markdown",
      "source": [
        "![image.png](data:image/png;base64,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)"
      ],
      "metadata": {
        "id": "tzM414wfnzey"
      },
      "id": "tzM414wfnzey"
    },
    {
      "cell_type": "markdown",
      "source": [
        "![image.png](data:image/png;base64,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)"
      ],
      "metadata": {
        "id": "7oWvphntn5Px"
      },
      "id": "7oWvphntn5Px"
    },
    {
      "cell_type": "markdown",
      "source": [
        "\n",
        "![image.png](data:image/png;base64,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)"
      ],
      "metadata": {
        "id": "eVG4sB6goeDU"
      },
      "id": "eVG4sB6goeDU"
    }
  ],
  "metadata": {
    "kernelspec": {
      "display_name": "Python 3 (ipykernel)",
      "language": "python",
      "name": "python3"
    },
    "language_info": {
      "codemirror_mode": {
        "name": "ipython",
        "version": 3
      },
      "file_extension": ".py",
      "mimetype": "text/x-python",
      "name": "python",
      "nbconvert_exporter": "python",
      "pygments_lexer": "ipython3",
      "version": "3.10.4"
    },
    "toc": {
      "base_numbering": 1,
      "nav_menu": {},
      "number_sections": true,
      "sideBar": true,
      "skip_h1_title": false,
      "title_cell": "Table of Contents",
      "title_sidebar": "Contents",
      "toc_cell": false,
      "toc_position": {},
      "toc_section_display": true,
      "toc_window_display": false
    },
    "colab": {
      "provenance": [],
      "include_colab_link": true
    },
    "widgets": {
      "application/vnd.jupyter.widget-state+json": {
        "06bc2a48ac8f4126b18fc1a143113c10": {
          "model_module": "@jupyter-widgets/controls",
          "model_name": "HBoxModel",
          "model_module_version": "1.5.0",
          "state": {
            "_dom_classes": [],
            "_model_module": "@jupyter-widgets/controls",
            "_model_module_version": "1.5.0",
            "_model_name": "HBoxModel",
            "_view_count": null,
            "_view_module": "@jupyter-widgets/controls",
            "_view_module_version": "1.5.0",
            "_view_name": "HBoxView",
            "box_style": "",
            "children": [
              "IPY_MODEL_8a9514411b30408ab3b1d80f092abb6a",
              "IPY_MODEL_c3ede66129364aeea7696a4b587de018",
              "IPY_MODEL_9d1b76f74d404867b860579f9e289768"
            ],
            "layout": "IPY_MODEL_bda186247bbb43cfae79dfa3d1485857"
          }
        },
        "8a9514411b30408ab3b1d80f092abb6a": {
          "model_module": "@jupyter-widgets/controls",
          "model_name": "HTMLModel",
          "model_module_version": "1.5.0",
          "state": {
            "_dom_classes": [],
            "_model_module": "@jupyter-widgets/controls",
            "_model_module_version": "1.5.0",
            "_model_name": "HTMLModel",
            "_view_count": null,
            "_view_module": "@jupyter-widgets/controls",
            "_view_module_version": "1.5.0",
            "_view_name": "HTMLView",
            "description": "",
            "description_tooltip": null,
            "layout": "IPY_MODEL_1ae23fafe12a44eea6749dfd50b214ae",
            "placeholder": "​",
            "style": "IPY_MODEL_8d08cd55bf804cec8294fdaacb3e2370",
            "value": "Done! Use &#x27;show&#x27; commands to display/save.   "
          }
        },
        "c3ede66129364aeea7696a4b587de018": {
          "model_module": "@jupyter-widgets/controls",
          "model_name": "FloatProgressModel",
          "model_module_version": "1.5.0",
          "state": {
            "_dom_classes": [],
            "_model_module": "@jupyter-widgets/controls",
            "_model_module_version": "1.5.0",
            "_model_name": "FloatProgressModel",
            "_view_count": null,
            "_view_module": "@jupyter-widgets/controls",
            "_view_module_version": "1.5.0",
            "_view_name": "ProgressView",
            "bar_style": "success",
            "description": "",
            "description_tooltip": null,
            "layout": "IPY_MODEL_a89c2b8d73054cc5845db8cfa1fe9935",
            "max": 1,
            "min": 0,
            "orientation": "horizontal",
            "style": "IPY_MODEL_5312ee7823384a899b17a748175f3f51",
            "value": 1
          }
        },
        "9d1b76f74d404867b860579f9e289768": {
          "model_module": "@jupyter-widgets/controls",
          "model_name": "HTMLModel",
          "model_module_version": "1.5.0",
          "state": {
            "_dom_classes": [],
            "_model_module": "@jupyter-widgets/controls",
            "_model_module_version": "1.5.0",
            "_model_name": "HTMLModel",
            "_view_count": null,
            "_view_module": "@jupyter-widgets/controls",
            "_view_module_version": "1.5.0",
            "_view_name": "HTMLView",
            "description": "",
            "description_tooltip": null,
            "layout": "IPY_MODEL_26613c4c16894c768bf203445c0428f5",
            "placeholder": "​",
            "style": "IPY_MODEL_5d5315ba59b2449c93b22d26d9239986",
            "value": " [100%]   00:01 -&gt; (00:00 left)"
          }
        },
        "bda186247bbb43cfae79dfa3d1485857": {
          "model_module": "@jupyter-widgets/base",
          "model_name": "LayoutModel",
          "model_module_version": "1.2.0",
          "state": {
            "_model_module": "@jupyter-widgets/base",
            "_model_module_version": "1.2.0",
            "_model_name": "LayoutModel",
            "_view_count": null,
            "_view_module": "@jupyter-widgets/base",
            "_view_module_version": "1.2.0",
            "_view_name": "LayoutView",
            "align_content": null,
            "align_items": null,
            "align_self": null,
            "border": null,
            "bottom": null,
            "display": "inline-flex",
            "flex": null,
            "flex_flow": "row wrap",
            "grid_area": null,
            "grid_auto_columns": null,
            "grid_auto_flow": null,
            "grid_auto_rows": null,
            "grid_column": null,
            "grid_gap": null,
            "grid_row": null,
            "grid_template_areas": null,
            "grid_template_columns": null,
            "grid_template_rows": null,
            "height": null,
            "justify_content": null,
            "justify_items": null,
            "left": null,
            "margin": null,
            "max_height": null,
            "max_width": null,
            "min_height": null,
            "min_width": null,
            "object_fit": null,
            "object_position": null,
            "order": null,
            "overflow": null,
            "overflow_x": null,
            "overflow_y": null,
            "padding": null,
            "right": null,
            "top": null,
            "visibility": null,
            "width": "100%"
          }
        },
        "1ae23fafe12a44eea6749dfd50b214ae": {
          "model_module": "@jupyter-widgets/base",
          "model_name": "LayoutModel",
          "model_module_version": "1.2.0",
          "state": {
            "_model_module": "@jupyter-widgets/base",
            "_model_module_version": "1.2.0",
            "_model_name": "LayoutModel",
            "_view_count": null,
            "_view_module": "@jupyter-widgets/base",
            "_view_module_version": "1.2.0",
            "_view_name": "LayoutView",
            "align_content": null,
            "align_items": null,
            "align_self": null,
            "border": null,
            "bottom": null,
            "display": null,
            "flex": null,
            "flex_flow": null,
            "grid_area": null,
            "grid_auto_columns": null,
            "grid_auto_flow": null,
            "grid_auto_rows": null,
            "grid_column": null,
            "grid_gap": null,
            "grid_row": null,
            "grid_template_areas": null,
            "grid_template_columns": null,
            "grid_template_rows": null,
            "height": null,
            "justify_content": null,
            "justify_items": null,
            "left": null,
            "margin": null,
            "max_height": null,
            "max_width": null,
            "min_height": null,
            "min_width": null,
            "object_fit": null,
            "object_position": null,
            "order": null,
            "overflow": null,
            "overflow_x": null,
            "overflow_y": null,
            "padding": null,
            "right": null,
            "top": null,
            "visibility": null,
            "width": null
          }
        },
        "8d08cd55bf804cec8294fdaacb3e2370": {
          "model_module": "@jupyter-widgets/controls",
          "model_name": "DescriptionStyleModel",
          "model_module_version": "1.5.0",
          "state": {
            "_model_module": "@jupyter-widgets/controls",
            "_model_module_version": "1.5.0",
            "_model_name": "DescriptionStyleModel",
            "_view_count": null,
            "_view_module": "@jupyter-widgets/base",
            "_view_module_version": "1.2.0",
            "_view_name": "StyleView",
            "description_width": ""
          }
        },
        "a89c2b8d73054cc5845db8cfa1fe9935": {
          "model_module": "@jupyter-widgets/base",
          "model_name": "LayoutModel",
          "model_module_version": "1.2.0",
          "state": {
            "_model_module": "@jupyter-widgets/base",
            "_model_module_version": "1.2.0",
            "_model_name": "LayoutModel",
            "_view_count": null,
            "_view_module": "@jupyter-widgets/base",
            "_view_module_version": "1.2.0",
            "_view_name": "LayoutView",
            "align_content": null,
            "align_items": null,
            "align_self": null,
            "border": null,
            "bottom": null,
            "display": null,
            "flex": "2",
            "flex_flow": null,
            "grid_area": null,
            "grid_auto_columns": null,
            "grid_auto_flow": null,
            "grid_auto_rows": null,
            "grid_column": null,
            "grid_gap": null,
            "grid_row": null,
            "grid_template_areas": null,
            "grid_template_columns": null,
            "grid_template_rows": null,
            "height": null,
            "justify_content": null,
            "justify_items": null,
            "left": null,
            "margin": null,
            "max_height": null,
            "max_width": null,
            "min_height": null,
            "min_width": null,
            "object_fit": null,
            "object_position": null,
            "order": null,
            "overflow": null,
            "overflow_x": null,
            "overflow_y": null,
            "padding": null,
            "right": null,
            "top": null,
            "visibility": null,
            "width": null
          }
        },
        "5312ee7823384a899b17a748175f3f51": {
          "model_module": "@jupyter-widgets/controls",
          "model_name": "ProgressStyleModel",
          "model_module_version": "1.5.0",
          "state": {
            "_model_module": "@jupyter-widgets/controls",
            "_model_module_version": "1.5.0",
            "_model_name": "ProgressStyleModel",
            "_view_count": null,
            "_view_module": "@jupyter-widgets/base",
            "_view_module_version": "1.2.0",
            "_view_name": "StyleView",
            "bar_color": null,
            "description_width": ""
          }
        },
        "26613c4c16894c768bf203445c0428f5": {
          "model_module": "@jupyter-widgets/base",
          "model_name": "LayoutModel",
          "model_module_version": "1.2.0",
          "state": {
            "_model_module": "@jupyter-widgets/base",
            "_model_module_version": "1.2.0",
            "_model_name": "LayoutModel",
            "_view_count": null,
            "_view_module": "@jupyter-widgets/base",
            "_view_module_version": "1.2.0",
            "_view_name": "LayoutView",
            "align_content": null,
            "align_items": null,
            "align_self": null,
            "border": null,
            "bottom": null,
            "display": null,
            "flex": null,
            "flex_flow": null,
            "grid_area": null,
            "grid_auto_columns": null,
            "grid_auto_flow": null,
            "grid_auto_rows": null,
            "grid_column": null,
            "grid_gap": null,
            "grid_row": null,
            "grid_template_areas": null,
            "grid_template_columns": null,
            "grid_template_rows": null,
            "height": null,
            "justify_content": null,
            "justify_items": null,
            "left": null,
            "margin": null,
            "max_height": null,
            "max_width": null,
            "min_height": null,
            "min_width": null,
            "object_fit": null,
            "object_position": null,
            "order": null,
            "overflow": null,
            "overflow_x": null,
            "overflow_y": null,
            "padding": null,
            "right": null,
            "top": null,
            "visibility": null,
            "width": null
          }
        },
        "5d5315ba59b2449c93b22d26d9239986": {
          "model_module": "@jupyter-widgets/controls",
          "model_name": "DescriptionStyleModel",
          "model_module_version": "1.5.0",
          "state": {
            "_model_module": "@jupyter-widgets/controls",
            "_model_module_version": "1.5.0",
            "_model_name": "DescriptionStyleModel",
            "_view_count": null,
            "_view_module": "@jupyter-widgets/base",
            "_view_module_version": "1.2.0",
            "_view_name": "StyleView",
            "description_width": ""
          }
        }
      }
    }
  },
  "nbformat": 4,
  "nbformat_minor": 5
}