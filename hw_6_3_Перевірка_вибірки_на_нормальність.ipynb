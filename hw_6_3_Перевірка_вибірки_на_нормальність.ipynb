{
  "cells": [
    {
      "cell_type": "markdown",
      "metadata": {
        "id": "view-in-github",
        "colab_type": "text"
      },
      "source": [
        "<a href=\"https://colab.research.google.com/github/MrCherveN/DataAnalist-7-0_HomeTasks/blob/main/hw_6_3_%D0%9F%D0%B5%D1%80%D0%B5%D0%B2%D1%96%D1%80%D0%BA%D0%B0_%D0%B2%D0%B8%D0%B1%D1%96%D1%80%D0%BA%D0%B8_%D0%BD%D0%B0_%D0%BD%D0%BE%D1%80%D0%BC%D0%B0%D0%BB%D1%8C%D0%BD%D1%96%D1%81%D1%82%D1%8C.ipynb\" target=\"_parent\"><img src=\"https://colab.research.google.com/assets/colab-badge.svg\" alt=\"Open In Colab\"/></a>"
      ]
    },
    {
      "cell_type": "markdown",
      "id": "e152f6d6",
      "metadata": {
        "ExecuteTime": {
          "end_time": "2022-12-10T14:29:24.703416Z",
          "start_time": "2022-12-10T14:29:24.688485Z"
        },
        "id": "e152f6d6"
      },
      "source": [
        "## Домашнє завдання на тему \"Перевірка вибірки на нормальність\""
      ]
    },
    {
      "cell_type": "markdown",
      "id": "cd404683",
      "metadata": {
        "id": "cd404683"
      },
      "source": [
        "0.Зчитайте дані з `data.csv` та запишіть значення колонки data у форматі np.ndarray в змінну data. Ми будемо далі працювати з цією змінною."
      ]
    },
    {
      "cell_type": "code",
      "source": [
        "from google.colab import drive\n",
        "drive.mount('/content/drive')"
      ],
      "metadata": {
        "colab": {
          "base_uri": "https://localhost:8080/"
        },
        "id": "YBs8V4LnJFKn",
        "outputId": "e2ed0261-81e6-4b01-c43c-22e9cbbb64b7"
      },
      "id": "YBs8V4LnJFKn",
      "execution_count": 1,
      "outputs": [
        {
          "output_type": "stream",
          "name": "stdout",
          "text": [
            "Mounted at /content/drive\n"
          ]
        }
      ]
    },
    {
      "cell_type": "code",
      "execution_count": 2,
      "id": "b20b6ba2",
      "metadata": {
        "id": "b20b6ba2"
      },
      "outputs": [],
      "source": [
        "import matplotlib.pyplot as plt\n",
        "import numpy as np\n",
        "import pandas as pd"
      ]
    },
    {
      "cell_type": "code",
      "source": [
        "df = pd.read_csv('/content/drive/MyDrive/Python/Аналітик 7-0/Лекции/Модуль 6/6.2 Статистика/data/data.csv')\n",
        "data = df['data'].to_numpy()"
      ],
      "metadata": {
        "id": "vjEtWbenI82e"
      },
      "id": "vjEtWbenI82e",
      "execution_count": 8,
      "outputs": []
    },
    {
      "cell_type": "markdown",
      "id": "3d06cbbf",
      "metadata": {
        "id": "3d06cbbf"
      },
      "source": [
        "Запустіть код нижче. Для коректної робити всіх подальших методів дані мають бути у вигляді одновимірного вектора, тобто мати розмір (100,)."
      ]
    },
    {
      "cell_type": "code",
      "execution_count": 9,
      "id": "cce1632b",
      "metadata": {
        "id": "cce1632b",
        "colab": {
          "base_uri": "https://localhost:8080/"
        },
        "outputId": "3457eb59-b494-4630-fe36-9428c890c4f6"
      },
      "outputs": [
        {
          "output_type": "execute_result",
          "data": {
            "text/plain": [
              "(100,)"
            ]
          },
          "metadata": {},
          "execution_count": 9
        }
      ],
      "source": [
        "data.shape"
      ]
    },
    {
      "cell_type": "markdown",
      "id": "8dc4aa91",
      "metadata": {
        "ExecuteTime": {
          "end_time": "2022-12-10T09:23:15.841042Z",
          "start_time": "2022-12-10T09:23:15.820896Z"
        },
        "id": "8dc4aa91"
      },
      "source": [
        "## Перевірка вибірки на нормальність"
      ]
    },
    {
      "cell_type": "markdown",
      "id": "5bfe9273",
      "metadata": {
        "ExecuteTime": {
          "end_time": "2022-12-10T09:35:55.583520Z",
          "start_time": "2022-12-10T09:35:55.577220Z"
        },
        "id": "5bfe9273"
      },
      "source": [
        "1.**Візуалізація розподілу**\n",
        "\n",
        "Подивимось спершу на розподіл наших даних. Для цього побудуємо розподіл даних (графік на вигляд як гістограма, тільки він нормований так, аби сума під кривою була рівна 1), а на нього накладемо лінійний графік щільності (PDF - для побудови використовуємо `scipy.stats.norm.pdf(...)`) теоретичного нормального розподілу з середнім та стандартним відхиленням як у наших даних.\n",
        "\n",
        "Візуалізацію будуємо за аналогією прикладу, що наводився у лекції, коли ми будували кілька кривих щільності для одних і тих самих даних, тільки значно більш спрощено, бо розподіл для порівняння у нас лише один - нормальний.\n",
        "\n",
        "Побудуйте графік як наведено в очікуваному результаті та напишіть ваш висновок, чи схоже, що дані розподілені нормально?\n",
        "\n",
        "Підказка: весь графік будується за 6 рядків коду, три з яких - підписи осей і графіку. Аби побудувати лінійний графік функції щільності та він наклався на гістограму, необхідно задати значення іксів з діапазону значень наших даних. Ці значення вже задані для вас, залишилось дописати 5 рядочків коду :)"
      ]
    },
    {
      "cell_type": "code",
      "source": [
        "from scipy.stats import norm"
      ],
      "metadata": {
        "id": "hLPUMzKO2toT"
      },
      "id": "hLPUMzKO2toT",
      "execution_count": 10,
      "outputs": []
    },
    {
      "cell_type": "code",
      "execution_count": 17,
      "id": "22ad6811",
      "metadata": {
        "ExecuteTime": {
          "end_time": "2022-12-10T09:42:05.346737Z",
          "start_time": "2022-12-10T09:42:05.343690Z"
        },
        "id": "22ad6811",
        "colab": {
          "base_uri": "https://localhost:8080/",
          "height": 472
        },
        "outputId": "bb6573a8-64fa-454f-a4e2-720fc837e9e5"
      },
      "outputs": [
        {
          "output_type": "display_data",
          "data": {
            "text/plain": [
              "<Figure size 640x480 with 1 Axes>"
            ],
            "image/png": "[encoded data removed]"
          },
          "metadata": {}
        }
      ],
      "source": [
        "x_axis = np.arange(data.min(), data.max(), 0.01)\n",
        "y_plot = norm.pdf(x_axis, loc=data.mean(), scale=np.std(data))\n",
        "plt.plot(x_axis, y_plot,color = 'r')\n",
        "plt.hist(data, density=True, bins=10)\n",
        "plt.title('Distribution of data')\n",
        "plt.xlabel('data value')\n",
        "plt.ylabel('p(x)');"
      ]
    },
    {
      "cell_type": "markdown",
      "source": [
        "Висновок:\n",
        "Форма гістограми відповідає нормальному розподілу, але є певні біни, які відхиляються від лінійного графіка щільності. Потрібно застосовувати інші методи дослідження."
      ],
      "metadata": {
        "id": "NnyYDMXYSdPR"
      },
      "id": "NnyYDMXYSdPR"
    },
    {
      "cell_type": "markdown",
      "id": "992eeef4",
      "metadata": {
        "id": "992eeef4"
      },
      "source": [
        "Очікуваний результат:"
      ]
    },
    {
      "cell_type": "markdown",
      "id": "95870720",
      "metadata": {
        "id": "95870720"
      },
      "source": [
        "![](https://drive.google.com/uc?export=view&id=1SB_HOIgwfZXrtglBBlDfMYjg2eGGBSIX)\n"
      ]
    },
    {
      "cell_type": "markdown",
      "id": "646b2f36",
      "metadata": {
        "id": "646b2f36"
      },
      "source": [
        "2.**QQ графік**\n",
        "\n",
        "Ще одним візуалізаційним методом перевірки розподілу вибірки даних на нормальність є графік квантиль-квантиль, Q-Q графік або QQ графік. У лекції ми розбирали, що це за графік, та як його інтерпретувати.\n",
        "\n",
        "Побудуйте QQ-Plot для порівняння з нормальним розподілом наших даних та напишіть висновок з графіку, чи можна сказати, що дані розподілені за нормальним законом?"
      ]
    },
    {
      "cell_type": "code",
      "source": [
        "from scipy.stats import probplot\n",
        "probplot(data, dist=\"norm\", plot=plt)\n",
        "plt.title('')\n",
        "plt.xlabel('Theoretical Quantiles')\n",
        "plt.ylabel('Sample Quantiles');\n",
        "plt.show()"
      ],
      "metadata": {
        "id": "7TL_nnheiQiJ",
        "colab": {
          "base_uri": "https://localhost:8080/",
          "height": 449
        },
        "outputId": "3106dc97-40c0-425c-938b-5eee9b200a84"
      },
      "id": "7TL_nnheiQiJ",
      "execution_count": 22,
      "outputs": [
        {
          "output_type": "display_data",
          "data": {
            "text/plain": [
              "<Figure size 640x480 with 1 Axes>"
            ],
            "image/png": "[encoded data removed]"
          },
          "metadata": {}
        }
      ]
    },
    {
      "cell_type": "markdown",
      "source": [
        "Висновок:\n",
        "Бачимо певні відхилення точок від прямої лінії, які вказують на невідповідності з нашим припущеним щодо нормальності розподілу. Як було вказано на лекції, дані в такому випадку вимагають подальшого дослідження (наприклад, на застосування спецільних тестів)."
      ],
      "metadata": {
        "id": "KAU1MJcvW8l0"
      },
      "id": "KAU1MJcvW8l0"
    },
    {
      "cell_type": "markdown",
      "id": "f66877d4",
      "metadata": {
        "id": "f66877d4"
      },
      "source": [
        "Очікуваний результат:"
      ]
    },
    {
      "cell_type": "markdown",
      "id": "2e71bead",
      "metadata": {
        "id": "2e71bead"
      },
      "source": [
        "![](https://drive.google.com/uc?export=view&id=1-eDd16OVgqEjzFUBjJJzSMcwSrzNNm_V)"
      ]
    },
    {
      "cell_type": "markdown",
      "id": "789a19c2",
      "metadata": {
        "id": "789a19c2"
      },
      "source": [
        "3.**Тест Шапіро-Вілка**\n",
        "\n",
        "Тест Шапіро-Вілка визначає для вибірки, наскільки ймовірно, що вона була витягнута з нормального розподілу.\n",
        "Нульова гіпотеза H0 тесту Шапіро-Вилка полягає в тому, що випадкова величина, вибірка якої відома, розподілена за нормальним законом. Альтернативна гіпотеза H1 полягає в тому, що закон розподілу **не** є нормальним.\n",
        "\n",
        "**Задача**: протестувати нашу вибірку на нормальність з допомогою теcта Шапіро-Вілка, реалізованого в функцію [scipy.stats.shapiro](https://docs.scipy.org/doc/scipy/reference/generated/scipy.stats.shapiro.html). Висновок зробіть на основі аналізу p-значення. На рівні значущості = 0.05 чи можемо ми відхилити гіпотезу Н0? Відповідь можна надати текстом, або написати простий if-else блок для виведення висновку спираючись на отримане p-значення. Нагадування:\n",
        "- p <= alpha: відхиляємо H0.\n",
        "- p > alpha: не можемо відхилити H0.\n",
        "\n",
        "Також пропоную вам переглянути оце [відео](https://youtu.be/eh9eYLBecWk), тут розказується про QQ графік, тест Шапіро, та звʼязок між ними.\n"
      ]
    },
    {
      "cell_type": "code",
      "source": [
        "from scipy.stats import shapiro"
      ],
      "metadata": {
        "id": "6ACtiMtQiR2S"
      },
      "id": "6ACtiMtQiR2S",
      "execution_count": 23,
      "outputs": []
    },
    {
      "cell_type": "code",
      "source": [
        "stat, p_value_shapiro = shapiro(data)\n",
        "print(\"stat =\", stat, \"\\np_value_shapiro =\", p_value_shapiro)\n",
        "if p_value_shapiro > 0.05:\n",
        "    print(\"\\nЗа результатами тесту Шапіро-Вілка дані мають нормальний розподіл (не відхиляємо H0).\")\n",
        "else:\n",
        "    print(\"\\nЗа результатами тесту Шапіро-Вілка дані не мають нормального розподілу (відхиляємо H0).\")"
      ],
      "metadata": {
        "colab": {
          "base_uri": "https://localhost:8080/"
        },
        "id": "MUex5HhVX9il",
        "outputId": "dac07edd-4e0f-4ee3-acdc-66ddc4f7864d"
      },
      "id": "MUex5HhVX9il",
      "execution_count": 29,
      "outputs": [
        {
          "output_type": "stream",
          "name": "stdout",
          "text": [
            "stat = 0.9887855685963715 \n",
            "p_value_shapiro = 0.5677973106978921\n",
            "\n",
            "За результатами тесту Шапіро-Вілка дані мають нормальний розподіл (не відхиляємо H0).\n"
          ]
        }
      ]
    }
  ],
  "metadata": {
    "hide_input": false,
    "kernelspec": {
      "display_name": "Python 3 (ipykernel)",
      "language": "python",
      "name": "python3"
    },
    "language_info": {
      "codemirror_mode": {
        "name": "ipython",
        "version": 3
      },
      "file_extension": ".py",
      "mimetype": "text/x-python",
      "name": "python",
      "nbconvert_exporter": "python",
      "pygments_lexer": "ipython3",
      "version": "3.11.3"
    },
    "toc": {
      "base_numbering": 1,
      "nav_menu": {},
      "number_sections": true,
      "sideBar": true,
      "skip_h1_title": false,
      "title_cell": "Table of Contents",
      "title_sidebar": "Contents",
      "toc_cell": false,
      "toc_position": {},
      "toc_section_display": true,
      "toc_window_display": false
    },
    "varInspector": {
      "cols": {
        "lenName": 16,
        "lenType": 16,
        "lenVar": 40
      },
      "kernels_config": {
        "python": {
          "delete_cmd_postfix": "",
          "delete_cmd_prefix": "del ",
          "library": "var_list.py",
          "varRefreshCmd": "print(var_dic_list())"
        },
        "r": {
          "delete_cmd_postfix": ") ",
          "delete_cmd_prefix": "rm(",
          "library": "var_list.r",
          "varRefreshCmd": "cat(var_dic_list()) "
        }
      },
      "types_to_exclude": [
        "module",
        "function",
        "builtin_function_or_method",
        "instance",
        "_Feature"
      ],
      "window_display": false
    },
    "colab": {
      "provenance": [],
      "include_colab_link": true
    }
  },
  "nbformat": 4,
  "nbformat_minor": 5
}